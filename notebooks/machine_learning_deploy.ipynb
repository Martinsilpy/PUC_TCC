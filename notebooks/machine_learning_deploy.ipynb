{
 "cells": [
  {
   "cell_type": "markdown",
   "id": "60343520",
   "metadata": {},
   "source": [
    "## TCC - Projeto Human Resources Analytics"
   ]
  },
  {
   "cell_type": "markdown",
   "id": "1b1bad41",
   "metadata": {},
   "source": [
    "### Machine Learning."
   ]
  },
  {
   "cell_type": "code",
   "execution_count": 6,
   "id": "8d9b163d",
   "metadata": {},
   "outputs": [],
   "source": [
    "import pandas as pd\n",
    "import datetime\n",
    "import glob\n",
    "from minio import Minio\n",
    "import numpy as np\n",
    "import matplotlib.pyplot as plt"
   ]
  },
  {
   "cell_type": "code",
   "execution_count": 7,
   "id": "f5274952",
   "metadata": {},
   "outputs": [],
   "source": [
    "client = Minio(\n",
    "        \"localhost:9000\",\n",
    "        access_key=\"minioadmin\",\n",
    "        secret_key=\"minioadmin\",\n",
    "        secure=False\n",
    "    )"
   ]
  },
  {
   "cell_type": "markdown",
   "id": "838ed69f",
   "metadata": {},
   "source": [
    "### Baixando o Dataset do Data Lake."
   ]
  },
  {
   "cell_type": "code",
   "execution_count": 8,
   "id": "bfa60edd",
   "metadata": {},
   "outputs": [],
   "source": [
    "client.fget_object(\n",
    "            \"processing\",\n",
    "            \"employees_dataset.parquet\",\n",
    "            \"temp_.parquet\",\n",
    ")\n",
    "df = pd.read_parquet(\"temp_.parquet\")"
   ]
  },
  {
   "cell_type": "code",
   "execution_count": 9,
   "id": "22142337",
   "metadata": {
    "scrolled": true
   },
   "outputs": [
    {
     "data": {
      "text/html": [
       "<div>\n",
       "<style scoped>\n",
       "    .dataframe tbody tr th:only-of-type {\n",
       "        vertical-align: middle;\n",
       "    }\n",
       "\n",
       "    .dataframe tbody tr th {\n",
       "        vertical-align: top;\n",
       "    }\n",
       "\n",
       "    .dataframe thead th {\n",
       "        text-align: right;\n",
       "    }\n",
       "</style>\n",
       "<table border=\"1\" class=\"dataframe\">\n",
       "  <thead>\n",
       "    <tr style=\"text-align: right;\">\n",
       "      <th></th>\n",
       "      <th>department</th>\n",
       "      <th>salary</th>\n",
       "      <th>left</th>\n",
       "      <th>mean_work_last_3_months</th>\n",
       "      <th>number_projects</th>\n",
       "      <th>satisfaction_level</th>\n",
       "      <th>last_evaluation</th>\n",
       "      <th>time_in_company</th>\n",
       "      <th>work_accident</th>\n",
       "    </tr>\n",
       "  </thead>\n",
       "  <tbody>\n",
       "    <tr>\n",
       "      <th>0</th>\n",
       "      <td>sales</td>\n",
       "      <td>low</td>\n",
       "      <td>1.0</td>\n",
       "      <td>266.000000</td>\n",
       "      <td>2.0</td>\n",
       "      <td>38.0</td>\n",
       "      <td>53.0</td>\n",
       "      <td>3.0</td>\n",
       "      <td>0.0</td>\n",
       "    </tr>\n",
       "    <tr>\n",
       "      <th>1</th>\n",
       "      <td>sales</td>\n",
       "      <td>medium</td>\n",
       "      <td>1.0</td>\n",
       "      <td>252.000000</td>\n",
       "      <td>5.0</td>\n",
       "      <td>80.0</td>\n",
       "      <td>86.0</td>\n",
       "      <td>6.0</td>\n",
       "      <td>0.0</td>\n",
       "    </tr>\n",
       "    <tr>\n",
       "      <th>2</th>\n",
       "      <td>sales</td>\n",
       "      <td>medium</td>\n",
       "      <td>1.0</td>\n",
       "      <td>289.666667</td>\n",
       "      <td>7.0</td>\n",
       "      <td>11.0</td>\n",
       "      <td>88.0</td>\n",
       "      <td>4.0</td>\n",
       "      <td>0.0</td>\n",
       "    </tr>\n",
       "    <tr>\n",
       "      <th>3</th>\n",
       "      <td>sales</td>\n",
       "      <td>low</td>\n",
       "      <td>1.0</td>\n",
       "      <td>275.666667</td>\n",
       "      <td>5.0</td>\n",
       "      <td>72.0</td>\n",
       "      <td>87.0</td>\n",
       "      <td>5.0</td>\n",
       "      <td>0.0</td>\n",
       "    </tr>\n",
       "    <tr>\n",
       "      <th>4</th>\n",
       "      <td>sales</td>\n",
       "      <td>low</td>\n",
       "      <td>1.0</td>\n",
       "      <td>292.333333</td>\n",
       "      <td>2.0</td>\n",
       "      <td>37.0</td>\n",
       "      <td>52.0</td>\n",
       "      <td>3.0</td>\n",
       "      <td>0.0</td>\n",
       "    </tr>\n",
       "  </tbody>\n",
       "</table>\n",
       "</div>"
      ],
      "text/plain": [
       "  department  salary  left  mean_work_last_3_months  number_projects  \\\n",
       "0      sales     low   1.0               266.000000              2.0   \n",
       "1      sales  medium   1.0               252.000000              5.0   \n",
       "2      sales  medium   1.0               289.666667              7.0   \n",
       "3      sales     low   1.0               275.666667              5.0   \n",
       "4      sales     low   1.0               292.333333              2.0   \n",
       "\n",
       "   satisfaction_level  last_evaluation  time_in_company  work_accident  \n",
       "0                38.0             53.0              3.0            0.0  \n",
       "1                80.0             86.0              6.0            0.0  \n",
       "2                11.0             88.0              4.0            0.0  \n",
       "3                72.0             87.0              5.0            0.0  \n",
       "4                37.0             52.0              3.0            0.0  "
      ]
     },
     "execution_count": 9,
     "metadata": {},
     "output_type": "execute_result"
    }
   ],
   "source": [
    "df.head()"
   ]
  },
  {
   "cell_type": "markdown",
   "id": "fc2fa009",
   "metadata": {},
   "source": [
    "#### Organizando o dataset."
   ]
  },
  {
   "cell_type": "code",
   "execution_count": 10,
   "id": "2f5b7a35",
   "metadata": {},
   "outputs": [],
   "source": [
    "df = df[['department', 'salary', 'mean_work_last_3_months',\n",
    "       'number_projects', 'satisfaction_level', 'last_evaluation',\n",
    "       'time_in_company', 'work_accident','left']]"
   ]
  },
  {
   "cell_type": "code",
   "execution_count": 11,
   "id": "b95448bd",
   "metadata": {
    "scrolled": true
   },
   "outputs": [
    {
     "data": {
      "text/html": [
       "<div>\n",
       "<style scoped>\n",
       "    .dataframe tbody tr th:only-of-type {\n",
       "        vertical-align: middle;\n",
       "    }\n",
       "\n",
       "    .dataframe tbody tr th {\n",
       "        vertical-align: top;\n",
       "    }\n",
       "\n",
       "    .dataframe thead th {\n",
       "        text-align: right;\n",
       "    }\n",
       "</style>\n",
       "<table border=\"1\" class=\"dataframe\">\n",
       "  <thead>\n",
       "    <tr style=\"text-align: right;\">\n",
       "      <th></th>\n",
       "      <th>department</th>\n",
       "      <th>salary</th>\n",
       "      <th>mean_work_last_3_months</th>\n",
       "      <th>number_projects</th>\n",
       "      <th>satisfaction_level</th>\n",
       "      <th>last_evaluation</th>\n",
       "      <th>time_in_company</th>\n",
       "      <th>work_accident</th>\n",
       "      <th>left</th>\n",
       "    </tr>\n",
       "  </thead>\n",
       "  <tbody>\n",
       "    <tr>\n",
       "      <th>0</th>\n",
       "      <td>sales</td>\n",
       "      <td>low</td>\n",
       "      <td>266.000000</td>\n",
       "      <td>2.0</td>\n",
       "      <td>38.0</td>\n",
       "      <td>53.0</td>\n",
       "      <td>3.0</td>\n",
       "      <td>0.0</td>\n",
       "      <td>1.0</td>\n",
       "    </tr>\n",
       "    <tr>\n",
       "      <th>1</th>\n",
       "      <td>sales</td>\n",
       "      <td>medium</td>\n",
       "      <td>252.000000</td>\n",
       "      <td>5.0</td>\n",
       "      <td>80.0</td>\n",
       "      <td>86.0</td>\n",
       "      <td>6.0</td>\n",
       "      <td>0.0</td>\n",
       "      <td>1.0</td>\n",
       "    </tr>\n",
       "    <tr>\n",
       "      <th>2</th>\n",
       "      <td>sales</td>\n",
       "      <td>medium</td>\n",
       "      <td>289.666667</td>\n",
       "      <td>7.0</td>\n",
       "      <td>11.0</td>\n",
       "      <td>88.0</td>\n",
       "      <td>4.0</td>\n",
       "      <td>0.0</td>\n",
       "      <td>1.0</td>\n",
       "    </tr>\n",
       "    <tr>\n",
       "      <th>3</th>\n",
       "      <td>sales</td>\n",
       "      <td>low</td>\n",
       "      <td>275.666667</td>\n",
       "      <td>5.0</td>\n",
       "      <td>72.0</td>\n",
       "      <td>87.0</td>\n",
       "      <td>5.0</td>\n",
       "      <td>0.0</td>\n",
       "      <td>1.0</td>\n",
       "    </tr>\n",
       "    <tr>\n",
       "      <th>4</th>\n",
       "      <td>sales</td>\n",
       "      <td>low</td>\n",
       "      <td>292.333333</td>\n",
       "      <td>2.0</td>\n",
       "      <td>37.0</td>\n",
       "      <td>52.0</td>\n",
       "      <td>3.0</td>\n",
       "      <td>0.0</td>\n",
       "      <td>1.0</td>\n",
       "    </tr>\n",
       "  </tbody>\n",
       "</table>\n",
       "</div>"
      ],
      "text/plain": [
       "  department  salary  mean_work_last_3_months  number_projects  \\\n",
       "0      sales     low               266.000000              2.0   \n",
       "1      sales  medium               252.000000              5.0   \n",
       "2      sales  medium               289.666667              7.0   \n",
       "3      sales     low               275.666667              5.0   \n",
       "4      sales     low               292.333333              2.0   \n",
       "\n",
       "   satisfaction_level  last_evaluation  time_in_company  work_accident  left  \n",
       "0                38.0             53.0              3.0            0.0   1.0  \n",
       "1                80.0             86.0              6.0            0.0   1.0  \n",
       "2                11.0             88.0              4.0            0.0   1.0  \n",
       "3                72.0             87.0              5.0            0.0   1.0  \n",
       "4                37.0             52.0              3.0            0.0   1.0  "
      ]
     },
     "execution_count": 11,
     "metadata": {},
     "output_type": "execute_result"
    }
   ],
   "source": [
    "df.head()"
   ]
  },
  {
   "cell_type": "markdown",
   "id": "2b4fa52c",
   "metadata": {},
   "source": [
    "#### Verificando os registros missing."
   ]
  },
  {
   "cell_type": "code",
   "execution_count": 12,
   "id": "65e92b9c",
   "metadata": {},
   "outputs": [
    {
     "data": {
      "text/plain": [
       "department                 1\n",
       "salary                     1\n",
       "mean_work_last_3_months    0\n",
       "number_projects            1\n",
       "satisfaction_level         1\n",
       "last_evaluation            1\n",
       "time_in_company            1\n",
       "work_accident              1\n",
       "left                       1\n",
       "dtype: int64"
      ]
     },
     "execution_count": 12,
     "metadata": {},
     "output_type": "execute_result"
    }
   ],
   "source": [
    "df.isnull().sum()"
   ]
  },
  {
   "cell_type": "code",
   "execution_count": 13,
   "id": "a6559f2c",
   "metadata": {},
   "outputs": [
    {
     "data": {
      "text/html": [
       "<div>\n",
       "<style scoped>\n",
       "    .dataframe tbody tr th:only-of-type {\n",
       "        vertical-align: middle;\n",
       "    }\n",
       "\n",
       "    .dataframe tbody tr th {\n",
       "        vertical-align: top;\n",
       "    }\n",
       "\n",
       "    .dataframe thead th {\n",
       "        text-align: right;\n",
       "    }\n",
       "</style>\n",
       "<table border=\"1\" class=\"dataframe\">\n",
       "  <thead>\n",
       "    <tr style=\"text-align: right;\">\n",
       "      <th></th>\n",
       "      <th>department</th>\n",
       "      <th>salary</th>\n",
       "      <th>mean_work_last_3_months</th>\n",
       "      <th>number_projects</th>\n",
       "      <th>satisfaction_level</th>\n",
       "      <th>last_evaluation</th>\n",
       "      <th>time_in_company</th>\n",
       "      <th>work_accident</th>\n",
       "      <th>left</th>\n",
       "    </tr>\n",
       "  </thead>\n",
       "  <tbody>\n",
       "    <tr>\n",
       "      <th>0</th>\n",
       "      <td>sales</td>\n",
       "      <td>low</td>\n",
       "      <td>266.000000</td>\n",
       "      <td>2.0</td>\n",
       "      <td>38.0</td>\n",
       "      <td>53.0</td>\n",
       "      <td>3.0</td>\n",
       "      <td>0.0</td>\n",
       "      <td>1.0</td>\n",
       "    </tr>\n",
       "    <tr>\n",
       "      <th>1</th>\n",
       "      <td>sales</td>\n",
       "      <td>medium</td>\n",
       "      <td>252.000000</td>\n",
       "      <td>5.0</td>\n",
       "      <td>80.0</td>\n",
       "      <td>86.0</td>\n",
       "      <td>6.0</td>\n",
       "      <td>0.0</td>\n",
       "      <td>1.0</td>\n",
       "    </tr>\n",
       "    <tr>\n",
       "      <th>2</th>\n",
       "      <td>sales</td>\n",
       "      <td>medium</td>\n",
       "      <td>289.666667</td>\n",
       "      <td>7.0</td>\n",
       "      <td>11.0</td>\n",
       "      <td>88.0</td>\n",
       "      <td>4.0</td>\n",
       "      <td>0.0</td>\n",
       "      <td>1.0</td>\n",
       "    </tr>\n",
       "    <tr>\n",
       "      <th>3</th>\n",
       "      <td>sales</td>\n",
       "      <td>low</td>\n",
       "      <td>275.666667</td>\n",
       "      <td>5.0</td>\n",
       "      <td>72.0</td>\n",
       "      <td>87.0</td>\n",
       "      <td>5.0</td>\n",
       "      <td>0.0</td>\n",
       "      <td>1.0</td>\n",
       "    </tr>\n",
       "    <tr>\n",
       "      <th>4</th>\n",
       "      <td>sales</td>\n",
       "      <td>low</td>\n",
       "      <td>292.333333</td>\n",
       "      <td>2.0</td>\n",
       "      <td>37.0</td>\n",
       "      <td>52.0</td>\n",
       "      <td>3.0</td>\n",
       "      <td>0.0</td>\n",
       "      <td>1.0</td>\n",
       "    </tr>\n",
       "    <tr>\n",
       "      <th>...</th>\n",
       "      <td>...</td>\n",
       "      <td>...</td>\n",
       "      <td>...</td>\n",
       "      <td>...</td>\n",
       "      <td>...</td>\n",
       "      <td>...</td>\n",
       "      <td>...</td>\n",
       "      <td>...</td>\n",
       "      <td>...</td>\n",
       "    </tr>\n",
       "    <tr>\n",
       "      <th>14995</th>\n",
       "      <td>technical</td>\n",
       "      <td>low</td>\n",
       "      <td>253.333333</td>\n",
       "      <td>2.0</td>\n",
       "      <td>37.0</td>\n",
       "      <td>48.0</td>\n",
       "      <td>3.0</td>\n",
       "      <td>0.0</td>\n",
       "      <td>1.0</td>\n",
       "    </tr>\n",
       "    <tr>\n",
       "      <th>14996</th>\n",
       "      <td>technical</td>\n",
       "      <td>medium</td>\n",
       "      <td>288.000000</td>\n",
       "      <td>2.0</td>\n",
       "      <td>37.0</td>\n",
       "      <td>53.0</td>\n",
       "      <td>3.0</td>\n",
       "      <td>0.0</td>\n",
       "      <td>1.0</td>\n",
       "    </tr>\n",
       "    <tr>\n",
       "      <th>14997</th>\n",
       "      <td>support</td>\n",
       "      <td>low</td>\n",
       "      <td>272.000000</td>\n",
       "      <td>6.0</td>\n",
       "      <td>11.0</td>\n",
       "      <td>96.0</td>\n",
       "      <td>4.0</td>\n",
       "      <td>0.0</td>\n",
       "      <td>1.0</td>\n",
       "    </tr>\n",
       "    <tr>\n",
       "      <th>14998</th>\n",
       "      <td>support</td>\n",
       "      <td>low</td>\n",
       "      <td>276.666667</td>\n",
       "      <td>2.0</td>\n",
       "      <td>37.0</td>\n",
       "      <td>52.0</td>\n",
       "      <td>3.0</td>\n",
       "      <td>0.0</td>\n",
       "      <td>1.0</td>\n",
       "    </tr>\n",
       "    <tr>\n",
       "      <th>14999</th>\n",
       "      <td>NaN</td>\n",
       "      <td>NaN</td>\n",
       "      <td>261.000000</td>\n",
       "      <td>NaN</td>\n",
       "      <td>NaN</td>\n",
       "      <td>NaN</td>\n",
       "      <td>NaN</td>\n",
       "      <td>NaN</td>\n",
       "      <td>NaN</td>\n",
       "    </tr>\n",
       "  </tbody>\n",
       "</table>\n",
       "<p>15000 rows × 9 columns</p>\n",
       "</div>"
      ],
      "text/plain": [
       "      department  salary  mean_work_last_3_months  number_projects  \\\n",
       "0          sales     low               266.000000              2.0   \n",
       "1          sales  medium               252.000000              5.0   \n",
       "2          sales  medium               289.666667              7.0   \n",
       "3          sales     low               275.666667              5.0   \n",
       "4          sales     low               292.333333              2.0   \n",
       "...          ...     ...                      ...              ...   \n",
       "14995  technical     low               253.333333              2.0   \n",
       "14996  technical  medium               288.000000              2.0   \n",
       "14997    support     low               272.000000              6.0   \n",
       "14998    support     low               276.666667              2.0   \n",
       "14999        NaN     NaN               261.000000              NaN   \n",
       "\n",
       "       satisfaction_level  last_evaluation  time_in_company  work_accident  \\\n",
       "0                    38.0             53.0              3.0            0.0   \n",
       "1                    80.0             86.0              6.0            0.0   \n",
       "2                    11.0             88.0              4.0            0.0   \n",
       "3                    72.0             87.0              5.0            0.0   \n",
       "4                    37.0             52.0              3.0            0.0   \n",
       "...                   ...              ...              ...            ...   \n",
       "14995                37.0             48.0              3.0            0.0   \n",
       "14996                37.0             53.0              3.0            0.0   \n",
       "14997                11.0             96.0              4.0            0.0   \n",
       "14998                37.0             52.0              3.0            0.0   \n",
       "14999                 NaN              NaN              NaN            NaN   \n",
       "\n",
       "       left  \n",
       "0       1.0  \n",
       "1       1.0  \n",
       "2       1.0  \n",
       "3       1.0  \n",
       "4       1.0  \n",
       "...     ...  \n",
       "14995   1.0  \n",
       "14996   1.0  \n",
       "14997   1.0  \n",
       "14998   1.0  \n",
       "14999   NaN  \n",
       "\n",
       "[15000 rows x 9 columns]"
      ]
     },
     "execution_count": 13,
     "metadata": {},
     "output_type": "execute_result"
    }
   ],
   "source": [
    "df[df.notnull()]"
   ]
  },
  {
   "cell_type": "code",
   "execution_count": 14,
   "id": "42ea9765",
   "metadata": {},
   "outputs": [],
   "source": [
    "df = df[:14998]"
   ]
  },
  {
   "cell_type": "markdown",
   "id": "6345aae2",
   "metadata": {},
   "source": [
    "#### Alterando os tipos de dados."
   ]
  },
  {
   "cell_type": "code",
   "execution_count": 15,
   "id": "3bed250e",
   "metadata": {},
   "outputs": [],
   "source": [
    "# Supondo que df seja o seu DataFrame\n",
    "\n",
    "# Convertendo com tratamento de erros, transformando não-numéricos em NaN\n",
    "df[\"number_projects\"] = pd.to_numeric(df[\"number_projects\"], errors='coerce').fillna(0).astype(int)\n",
    "\n",
    "# Repetindo o processo para as outras colunas, se necessário\n",
    "df[\"mean_work_last_3_months\"] = pd.to_numeric(df[\"mean_work_last_3_months\"], errors='coerce').fillna(0).astype(int)\n",
    "df[\"time_in_company\"] = pd.to_numeric(df[\"time_in_company\"], errors='coerce').fillna(0).astype(int)\n",
    "df[\"work_accident\"] = pd.to_numeric(df[\"work_accident\"], errors='coerce').fillna(0).astype(int)\n",
    "df[\"left\"] = pd.to_numeric(df[\"left\"], errors='coerce').fillna(0).astype(int)\n"
   ]
  },
  {
   "cell_type": "code",
   "execution_count": 16,
   "id": "d41aab97",
   "metadata": {},
   "outputs": [
    {
     "name": "stdout",
     "output_type": "stream",
     "text": [
      "<class 'pandas.core.frame.DataFrame'>\n",
      "RangeIndex: 14998 entries, 0 to 14997\n",
      "Data columns (total 9 columns):\n",
      " #   Column                   Non-Null Count  Dtype  \n",
      "---  ------                   --------------  -----  \n",
      " 0   department               14998 non-null  object \n",
      " 1   salary                   14998 non-null  object \n",
      " 2   mean_work_last_3_months  14998 non-null  int64  \n",
      " 3   number_projects          14998 non-null  int64  \n",
      " 4   satisfaction_level       14998 non-null  float64\n",
      " 5   last_evaluation          14998 non-null  float64\n",
      " 6   time_in_company          14998 non-null  int64  \n",
      " 7   work_accident            14998 non-null  int64  \n",
      " 8   left                     14998 non-null  int64  \n",
      "dtypes: float64(2), int64(5), object(2)\n",
      "memory usage: 1.0+ MB\n"
     ]
    }
   ],
   "source": [
    "df.info()"
   ]
  },
  {
   "cell_type": "code",
   "execution_count": 17,
   "id": "b3be9995",
   "metadata": {},
   "outputs": [
    {
     "data": {
      "text/html": [
       "<div>\n",
       "<style scoped>\n",
       "    .dataframe tbody tr th:only-of-type {\n",
       "        vertical-align: middle;\n",
       "    }\n",
       "\n",
       "    .dataframe tbody tr th {\n",
       "        vertical-align: top;\n",
       "    }\n",
       "\n",
       "    .dataframe thead th {\n",
       "        text-align: right;\n",
       "    }\n",
       "</style>\n",
       "<table border=\"1\" class=\"dataframe\">\n",
       "  <thead>\n",
       "    <tr style=\"text-align: right;\">\n",
       "      <th></th>\n",
       "      <th>department</th>\n",
       "      <th>salary</th>\n",
       "      <th>mean_work_last_3_months</th>\n",
       "      <th>number_projects</th>\n",
       "      <th>satisfaction_level</th>\n",
       "      <th>last_evaluation</th>\n",
       "      <th>time_in_company</th>\n",
       "      <th>work_accident</th>\n",
       "      <th>left</th>\n",
       "    </tr>\n",
       "  </thead>\n",
       "  <tbody>\n",
       "    <tr>\n",
       "      <th>0</th>\n",
       "      <td>sales</td>\n",
       "      <td>low</td>\n",
       "      <td>266</td>\n",
       "      <td>2</td>\n",
       "      <td>38.0</td>\n",
       "      <td>53.0</td>\n",
       "      <td>3</td>\n",
       "      <td>0</td>\n",
       "      <td>1</td>\n",
       "    </tr>\n",
       "    <tr>\n",
       "      <th>1</th>\n",
       "      <td>sales</td>\n",
       "      <td>medium</td>\n",
       "      <td>252</td>\n",
       "      <td>5</td>\n",
       "      <td>80.0</td>\n",
       "      <td>86.0</td>\n",
       "      <td>6</td>\n",
       "      <td>0</td>\n",
       "      <td>1</td>\n",
       "    </tr>\n",
       "    <tr>\n",
       "      <th>2</th>\n",
       "      <td>sales</td>\n",
       "      <td>medium</td>\n",
       "      <td>289</td>\n",
       "      <td>7</td>\n",
       "      <td>11.0</td>\n",
       "      <td>88.0</td>\n",
       "      <td>4</td>\n",
       "      <td>0</td>\n",
       "      <td>1</td>\n",
       "    </tr>\n",
       "    <tr>\n",
       "      <th>3</th>\n",
       "      <td>sales</td>\n",
       "      <td>low</td>\n",
       "      <td>275</td>\n",
       "      <td>5</td>\n",
       "      <td>72.0</td>\n",
       "      <td>87.0</td>\n",
       "      <td>5</td>\n",
       "      <td>0</td>\n",
       "      <td>1</td>\n",
       "    </tr>\n",
       "    <tr>\n",
       "      <th>4</th>\n",
       "      <td>sales</td>\n",
       "      <td>low</td>\n",
       "      <td>292</td>\n",
       "      <td>2</td>\n",
       "      <td>37.0</td>\n",
       "      <td>52.0</td>\n",
       "      <td>3</td>\n",
       "      <td>0</td>\n",
       "      <td>1</td>\n",
       "    </tr>\n",
       "  </tbody>\n",
       "</table>\n",
       "</div>"
      ],
      "text/plain": [
       "  department  salary  mean_work_last_3_months  number_projects  \\\n",
       "0      sales     low                      266                2   \n",
       "1      sales  medium                      252                5   \n",
       "2      sales  medium                      289                7   \n",
       "3      sales     low                      275                5   \n",
       "4      sales     low                      292                2   \n",
       "\n",
       "   satisfaction_level  last_evaluation  time_in_company  work_accident  left  \n",
       "0                38.0             53.0                3              0     1  \n",
       "1                80.0             86.0                6              0     1  \n",
       "2                11.0             88.0                4              0     1  \n",
       "3                72.0             87.0                5              0     1  \n",
       "4                37.0             52.0                3              0     1  "
      ]
     },
     "execution_count": 17,
     "metadata": {},
     "output_type": "execute_result"
    }
   ],
   "source": [
    "df.head()"
   ]
  },
  {
   "cell_type": "code",
   "execution_count": 18,
   "id": "4c53b942",
   "metadata": {},
   "outputs": [],
   "source": [
    "df = df[:14998]"
   ]
  },
  {
   "cell_type": "markdown",
   "id": "0732373c",
   "metadata": {},
   "source": [
    "#### Renomeando atributos"
   ]
  },
  {
   "cell_type": "code",
   "execution_count": 19,
   "id": "e51e02de",
   "metadata": {},
   "outputs": [],
   "source": [
    "df = df.rename(columns={'satisfaction_level': 'satisfaction', \n",
    "                        'last_evaluation': 'evaluation',\n",
    "                        'number_projects': 'projectCount',\n",
    "                        'mean_work_last_3_months': 'averageMonthlyHours',\n",
    "                        'time_in_company': 'yearsAtCompany',\n",
    "                        'work_accident': 'workAccident',\n",
    "                        'left' : 'turnover'\n",
    "                        })"
   ]
  },
  {
   "cell_type": "code",
   "execution_count": 20,
   "id": "8df7f8fd",
   "metadata": {
    "scrolled": true
   },
   "outputs": [
    {
     "data": {
      "text/html": [
       "<div>\n",
       "<style scoped>\n",
       "    .dataframe tbody tr th:only-of-type {\n",
       "        vertical-align: middle;\n",
       "    }\n",
       "\n",
       "    .dataframe tbody tr th {\n",
       "        vertical-align: top;\n",
       "    }\n",
       "\n",
       "    .dataframe thead th {\n",
       "        text-align: right;\n",
       "    }\n",
       "</style>\n",
       "<table border=\"1\" class=\"dataframe\">\n",
       "  <thead>\n",
       "    <tr style=\"text-align: right;\">\n",
       "      <th></th>\n",
       "      <th>department</th>\n",
       "      <th>salary</th>\n",
       "      <th>averageMonthlyHours</th>\n",
       "      <th>projectCount</th>\n",
       "      <th>satisfaction</th>\n",
       "      <th>evaluation</th>\n",
       "      <th>yearsAtCompany</th>\n",
       "      <th>workAccident</th>\n",
       "      <th>turnover</th>\n",
       "    </tr>\n",
       "  </thead>\n",
       "  <tbody>\n",
       "    <tr>\n",
       "      <th>0</th>\n",
       "      <td>sales</td>\n",
       "      <td>low</td>\n",
       "      <td>266</td>\n",
       "      <td>2</td>\n",
       "      <td>38.0</td>\n",
       "      <td>53.0</td>\n",
       "      <td>3</td>\n",
       "      <td>0</td>\n",
       "      <td>1</td>\n",
       "    </tr>\n",
       "    <tr>\n",
       "      <th>1</th>\n",
       "      <td>sales</td>\n",
       "      <td>medium</td>\n",
       "      <td>252</td>\n",
       "      <td>5</td>\n",
       "      <td>80.0</td>\n",
       "      <td>86.0</td>\n",
       "      <td>6</td>\n",
       "      <td>0</td>\n",
       "      <td>1</td>\n",
       "    </tr>\n",
       "    <tr>\n",
       "      <th>2</th>\n",
       "      <td>sales</td>\n",
       "      <td>medium</td>\n",
       "      <td>289</td>\n",
       "      <td>7</td>\n",
       "      <td>11.0</td>\n",
       "      <td>88.0</td>\n",
       "      <td>4</td>\n",
       "      <td>0</td>\n",
       "      <td>1</td>\n",
       "    </tr>\n",
       "    <tr>\n",
       "      <th>3</th>\n",
       "      <td>sales</td>\n",
       "      <td>low</td>\n",
       "      <td>275</td>\n",
       "      <td>5</td>\n",
       "      <td>72.0</td>\n",
       "      <td>87.0</td>\n",
       "      <td>5</td>\n",
       "      <td>0</td>\n",
       "      <td>1</td>\n",
       "    </tr>\n",
       "    <tr>\n",
       "      <th>4</th>\n",
       "      <td>sales</td>\n",
       "      <td>low</td>\n",
       "      <td>292</td>\n",
       "      <td>2</td>\n",
       "      <td>37.0</td>\n",
       "      <td>52.0</td>\n",
       "      <td>3</td>\n",
       "      <td>0</td>\n",
       "      <td>1</td>\n",
       "    </tr>\n",
       "  </tbody>\n",
       "</table>\n",
       "</div>"
      ],
      "text/plain": [
       "  department  salary  averageMonthlyHours  projectCount  satisfaction  \\\n",
       "0      sales     low                  266             2          38.0   \n",
       "1      sales  medium                  252             5          80.0   \n",
       "2      sales  medium                  289             7          11.0   \n",
       "3      sales     low                  275             5          72.0   \n",
       "4      sales     low                  292             2          37.0   \n",
       "\n",
       "   evaluation  yearsAtCompany  workAccident  turnover  \n",
       "0        53.0               3             0         1  \n",
       "1        86.0               6             0         1  \n",
       "2        88.0               4             0         1  \n",
       "3        87.0               5             0         1  \n",
       "4        52.0               3             0         1  "
      ]
     },
     "execution_count": 20,
     "metadata": {},
     "output_type": "execute_result"
    }
   ],
   "source": [
    "df.head()"
   ]
  },
  {
   "cell_type": "markdown",
   "id": "fcc89e8b",
   "metadata": {},
   "source": [
    "###  Importancia de Features"
   ]
  },
  {
   "cell_type": "markdown",
   "id": "d37217ce",
   "metadata": {},
   "source": [
    "#### Converte os atributos categoricos valores numéricos."
   ]
  },
  {
   "cell_type": "code",
   "execution_count": 21,
   "id": "82cf4bb1",
   "metadata": {},
   "outputs": [],
   "source": [
    "df[\"department\"] = df[\"department\"].astype('category').cat.codes\n",
    "df[\"salary\"] = df[\"salary\"].astype('category').cat.codes"
   ]
  },
  {
   "cell_type": "code",
   "execution_count": 22,
   "id": "8a44672c",
   "metadata": {},
   "outputs": [
    {
     "data": {
      "text/html": [
       "<div>\n",
       "<style scoped>\n",
       "    .dataframe tbody tr th:only-of-type {\n",
       "        vertical-align: middle;\n",
       "    }\n",
       "\n",
       "    .dataframe tbody tr th {\n",
       "        vertical-align: top;\n",
       "    }\n",
       "\n",
       "    .dataframe thead th {\n",
       "        text-align: right;\n",
       "    }\n",
       "</style>\n",
       "<table border=\"1\" class=\"dataframe\">\n",
       "  <thead>\n",
       "    <tr style=\"text-align: right;\">\n",
       "      <th></th>\n",
       "      <th>department</th>\n",
       "      <th>salary</th>\n",
       "      <th>averageMonthlyHours</th>\n",
       "      <th>projectCount</th>\n",
       "      <th>satisfaction</th>\n",
       "      <th>evaluation</th>\n",
       "      <th>yearsAtCompany</th>\n",
       "      <th>workAccident</th>\n",
       "      <th>turnover</th>\n",
       "    </tr>\n",
       "  </thead>\n",
       "  <tbody>\n",
       "    <tr>\n",
       "      <th>0</th>\n",
       "      <td>7</td>\n",
       "      <td>1</td>\n",
       "      <td>266</td>\n",
       "      <td>2</td>\n",
       "      <td>38.0</td>\n",
       "      <td>53.0</td>\n",
       "      <td>3</td>\n",
       "      <td>0</td>\n",
       "      <td>1</td>\n",
       "    </tr>\n",
       "    <tr>\n",
       "      <th>1</th>\n",
       "      <td>7</td>\n",
       "      <td>2</td>\n",
       "      <td>252</td>\n",
       "      <td>5</td>\n",
       "      <td>80.0</td>\n",
       "      <td>86.0</td>\n",
       "      <td>6</td>\n",
       "      <td>0</td>\n",
       "      <td>1</td>\n",
       "    </tr>\n",
       "    <tr>\n",
       "      <th>2</th>\n",
       "      <td>7</td>\n",
       "      <td>2</td>\n",
       "      <td>289</td>\n",
       "      <td>7</td>\n",
       "      <td>11.0</td>\n",
       "      <td>88.0</td>\n",
       "      <td>4</td>\n",
       "      <td>0</td>\n",
       "      <td>1</td>\n",
       "    </tr>\n",
       "    <tr>\n",
       "      <th>3</th>\n",
       "      <td>7</td>\n",
       "      <td>1</td>\n",
       "      <td>275</td>\n",
       "      <td>5</td>\n",
       "      <td>72.0</td>\n",
       "      <td>87.0</td>\n",
       "      <td>5</td>\n",
       "      <td>0</td>\n",
       "      <td>1</td>\n",
       "    </tr>\n",
       "    <tr>\n",
       "      <th>4</th>\n",
       "      <td>7</td>\n",
       "      <td>1</td>\n",
       "      <td>292</td>\n",
       "      <td>2</td>\n",
       "      <td>37.0</td>\n",
       "      <td>52.0</td>\n",
       "      <td>3</td>\n",
       "      <td>0</td>\n",
       "      <td>1</td>\n",
       "    </tr>\n",
       "  </tbody>\n",
       "</table>\n",
       "</div>"
      ],
      "text/plain": [
       "   department  salary  averageMonthlyHours  projectCount  satisfaction  \\\n",
       "0           7       1                  266             2          38.0   \n",
       "1           7       2                  252             5          80.0   \n",
       "2           7       2                  289             7          11.0   \n",
       "3           7       1                  275             5          72.0   \n",
       "4           7       1                  292             2          37.0   \n",
       "\n",
       "   evaluation  yearsAtCompany  workAccident  turnover  \n",
       "0        53.0               3             0         1  \n",
       "1        86.0               6             0         1  \n",
       "2        88.0               4             0         1  \n",
       "3        87.0               5             0         1  \n",
       "4        52.0               3             0         1  "
      ]
     },
     "execution_count": 22,
     "metadata": {},
     "output_type": "execute_result"
    }
   ],
   "source": [
    "df.head()"
   ]
  },
  {
   "cell_type": "markdown",
   "id": "702c4176",
   "metadata": {},
   "source": [
    "#### Separando os conjuntos de dados."
   ]
  },
  {
   "cell_type": "code",
   "execution_count": 23,
   "id": "d1bfeadb",
   "metadata": {},
   "outputs": [],
   "source": [
    "target_name = 'turnover'\n",
    "X = df.drop('turnover', axis=1)\n",
    "y = df[target_name]"
   ]
  },
  {
   "cell_type": "markdown",
   "id": "884842ca",
   "metadata": {},
   "source": [
    "#### Transformando os dados."
   ]
  },
  {
   "cell_type": "code",
   "execution_count": 24,
   "id": "9c78bc04",
   "metadata": {},
   "outputs": [],
   "source": [
    "from sklearn.preprocessing import MinMaxScaler"
   ]
  },
  {
   "cell_type": "code",
   "execution_count": 25,
   "id": "7a8ffe3c",
   "metadata": {},
   "outputs": [],
   "source": [
    "scaler = MinMaxScaler()"
   ]
  },
  {
   "cell_type": "code",
   "execution_count": 26,
   "id": "67d7112f",
   "metadata": {},
   "outputs": [],
   "source": [
    "X = scaler.fit_transform(X)"
   ]
  },
  {
   "cell_type": "code",
   "execution_count": 27,
   "id": "360fa4fb",
   "metadata": {},
   "outputs": [
    {
     "data": {
      "text/plain": [
       "array([[0.77777778, 0.5       , 0.38202247, ..., 0.265625  , 0.125     ,\n",
       "        0.        ],\n",
       "       [0.77777778, 1.        , 0.2247191 , ..., 0.78125   , 0.5       ,\n",
       "        0.        ],\n",
       "       [0.77777778, 1.        , 0.64044944, ..., 0.8125    , 0.25      ,\n",
       "        0.        ],\n",
       "       ...,\n",
       "       [1.        , 0.5       , 0.23595506, ..., 0.1875    , 0.125     ,\n",
       "        0.        ],\n",
       "       [1.        , 1.        , 0.62921348, ..., 0.265625  , 0.125     ,\n",
       "        0.        ],\n",
       "       [0.88888889, 0.5       , 0.4494382 , ..., 0.9375    , 0.25      ,\n",
       "        0.        ]])"
      ]
     },
     "execution_count": 27,
     "metadata": {},
     "output_type": "execute_result"
    }
   ],
   "source": [
    "X"
   ]
  },
  {
   "cell_type": "markdown",
   "id": "3f13d4d6",
   "metadata": {},
   "source": [
    "#### Separando os conjuntos."
   ]
  },
  {
   "cell_type": "code",
   "execution_count": 28,
   "id": "965c31d7",
   "metadata": {},
   "outputs": [],
   "source": [
    "from sklearn.model_selection import train_test_split"
   ]
  },
  {
   "cell_type": "code",
   "execution_count": 29,
   "id": "ab76666d",
   "metadata": {},
   "outputs": [],
   "source": [
    "X_train, X_test, y_train, y_test = train_test_split(\n",
    "        X\n",
    "       ,y\n",
    "       ,test_size = 0.2\n",
    "       ,random_state = 123\n",
    "       ,stratify = y\n",
    ")"
   ]
  },
  {
   "cell_type": "markdown",
   "id": "648148e9",
   "metadata": {},
   "source": [
    "#### Treinando o algoritmo de arvore de decisão."
   ]
  },
  {
   "cell_type": "code",
   "execution_count": 30,
   "id": "f99c9c51",
   "metadata": {},
   "outputs": [],
   "source": [
    "from sklearn.tree import DecisionTreeClassifier"
   ]
  },
  {
   "cell_type": "code",
   "execution_count": 31,
   "id": "b5b14190",
   "metadata": {},
   "outputs": [],
   "source": [
    "dtree = DecisionTreeClassifier()\n",
    "dtree = dtree.fit(X_train,y_train)"
   ]
  },
  {
   "cell_type": "code",
   "execution_count": 32,
   "id": "ccf50fa2",
   "metadata": {},
   "outputs": [],
   "source": [
    "importances = dtree.feature_importances_\n",
    "feat_names = df.drop(['turnover'],axis=1).columns"
   ]
  },
  {
   "cell_type": "code",
   "execution_count": 33,
   "id": "5479849c",
   "metadata": {},
   "outputs": [
    {
     "name": "stderr",
     "output_type": "stream",
     "text": [
      "findfont: Generic family 'sans-serif' not found because none of the following families were found: Arial, Liberation Sans, Bitstream Vera Sans, sans-serif\n",
      "findfont: Generic family 'sans-serif' not found because none of the following families were found: Arial, Liberation Sans, Bitstream Vera Sans, sans-serif\n",
      "findfont: Generic family 'sans-serif' not found because none of the following families were found: Arial, Liberation Sans, Bitstream Vera Sans, sans-serif\n",
      "findfont: Generic family 'sans-serif' not found because none of the following families were found: Arial, Liberation Sans, Bitstream Vera Sans, sans-serif\n",
      "findfont: Generic family 'sans-serif' not found because none of the following families were found: Arial, Liberation Sans, Bitstream Vera Sans, sans-serif\n",
      "findfont: Generic family 'sans-serif' not found because none of the following families were found: Arial, Liberation Sans, Bitstream Vera Sans, sans-serif\n",
      "findfont: Generic family 'sans-serif' not found because none of the following families were found: Arial, Liberation Sans, Bitstream Vera Sans, sans-serif\n",
      "findfont: Generic family 'sans-serif' not found because none of the following families were found: Arial, Liberation Sans, Bitstream Vera Sans, sans-serif\n",
      "findfont: Generic family 'sans-serif' not found because none of the following families were found: Arial, Liberation Sans, Bitstream Vera Sans, sans-serif\n",
      "findfont: Generic family 'sans-serif' not found because none of the following families were found: Arial, Liberation Sans, Bitstream Vera Sans, sans-serif\n",
      "findfont: Generic family 'sans-serif' not found because none of the following families were found: Arial, Liberation Sans, Bitstream Vera Sans, sans-serif\n",
      "findfont: Generic family 'sans-serif' not found because none of the following families were found: Arial, Liberation Sans, Bitstream Vera Sans, sans-serif\n",
      "findfont: Generic family 'sans-serif' not found because none of the following families were found: Arial, Liberation Sans, Bitstream Vera Sans, sans-serif\n",
      "findfont: Generic family 'sans-serif' not found because none of the following families were found: Arial, Liberation Sans, Bitstream Vera Sans, sans-serif\n",
      "findfont: Generic family 'sans-serif' not found because none of the following families were found: Arial, Liberation Sans, Bitstream Vera Sans, sans-serif\n",
      "findfont: Generic family 'sans-serif' not found because none of the following families were found: Arial, Liberation Sans, Bitstream Vera Sans, sans-serif\n",
      "findfont: Generic family 'sans-serif' not found because none of the following families were found: Arial, Liberation Sans, Bitstream Vera Sans, sans-serif\n",
      "findfont: Generic family 'sans-serif' not found because none of the following families were found: Arial, Liberation Sans, Bitstream Vera Sans, sans-serif\n",
      "findfont: Generic family 'sans-serif' not found because none of the following families were found: Arial, Liberation Sans, Bitstream Vera Sans, sans-serif\n",
      "findfont: Generic family 'sans-serif' not found because none of the following families were found: Arial, Liberation Sans, Bitstream Vera Sans, sans-serif\n",
      "findfont: Generic family 'sans-serif' not found because none of the following families were found: Arial, Liberation Sans, Bitstream Vera Sans, sans-serif\n",
      "findfont: Generic family 'sans-serif' not found because none of the following families were found: Arial, Liberation Sans, Bitstream Vera Sans, sans-serif\n",
      "findfont: Generic family 'sans-serif' not found because none of the following families were found: Arial, Liberation Sans, Bitstream Vera Sans, sans-serif\n",
      "findfont: Generic family 'sans-serif' not found because none of the following families were found: Arial, Liberation Sans, Bitstream Vera Sans, sans-serif\n",
      "findfont: Generic family 'sans-serif' not found because none of the following families were found: Arial, Liberation Sans, Bitstream Vera Sans, sans-serif\n",
      "findfont: Generic family 'sans-serif' not found because none of the following families were found: Arial, Liberation Sans, Bitstream Vera Sans, sans-serif\n",
      "findfont: Generic family 'sans-serif' not found because none of the following families were found: Arial, Liberation Sans, Bitstream Vera Sans, sans-serif\n",
      "findfont: Generic family 'sans-serif' not found because none of the following families were found: Arial, Liberation Sans, Bitstream Vera Sans, sans-serif\n",
      "findfont: Generic family 'sans-serif' not found because none of the following families were found: Arial, Liberation Sans, Bitstream Vera Sans, sans-serif\n",
      "findfont: Generic family 'sans-serif' not found because none of the following families were found: Arial, Liberation Sans, Bitstream Vera Sans, sans-serif\n",
      "findfont: Generic family 'sans-serif' not found because none of the following families were found: Arial, Liberation Sans, Bitstream Vera Sans, sans-serif\n",
      "findfont: Generic family 'sans-serif' not found because none of the following families were found: Arial, Liberation Sans, Bitstream Vera Sans, sans-serif\n",
      "findfont: Generic family 'sans-serif' not found because none of the following families were found: Arial, Liberation Sans, Bitstream Vera Sans, sans-serif\n",
      "findfont: Generic family 'sans-serif' not found because none of the following families were found: Arial, Liberation Sans, Bitstream Vera Sans, sans-serif\n",
      "findfont: Generic family 'sans-serif' not found because none of the following families were found: Arial, Liberation Sans, Bitstream Vera Sans, sans-serif\n",
      "findfont: Generic family 'sans-serif' not found because none of the following families were found: Arial, Liberation Sans, Bitstream Vera Sans, sans-serif\n",
      "findfont: Generic family 'sans-serif' not found because none of the following families were found: Arial, Liberation Sans, Bitstream Vera Sans, sans-serif\n",
      "findfont: Generic family 'sans-serif' not found because none of the following families were found: Arial, Liberation Sans, Bitstream Vera Sans, sans-serif\n",
      "findfont: Generic family 'sans-serif' not found because none of the following families were found: Arial, Liberation Sans, Bitstream Vera Sans, sans-serif\n",
      "findfont: Generic family 'sans-serif' not found because none of the following families were found: Arial, Liberation Sans, Bitstream Vera Sans, sans-serif\n",
      "findfont: Generic family 'sans-serif' not found because none of the following families were found: Arial, Liberation Sans, Bitstream Vera Sans, sans-serif\n",
      "findfont: Generic family 'sans-serif' not found because none of the following families were found: Arial, Liberation Sans, Bitstream Vera Sans, sans-serif\n",
      "findfont: Generic family 'sans-serif' not found because none of the following families were found: Arial, Liberation Sans, Bitstream Vera Sans, sans-serif\n",
      "findfont: Generic family 'sans-serif' not found because none of the following families were found: Arial, Liberation Sans, Bitstream Vera Sans, sans-serif\n",
      "findfont: Generic family 'sans-serif' not found because none of the following families were found: Arial, Liberation Sans, Bitstream Vera Sans, sans-serif\n",
      "findfont: Generic family 'sans-serif' not found because none of the following families were found: Arial, Liberation Sans, Bitstream Vera Sans, sans-serif\n",
      "findfont: Generic family 'sans-serif' not found because none of the following families were found: Arial, Liberation Sans, Bitstream Vera Sans, sans-serif\n",
      "findfont: Generic family 'sans-serif' not found because none of the following families were found: Arial, Liberation Sans, Bitstream Vera Sans, sans-serif\n",
      "findfont: Generic family 'sans-serif' not found because none of the following families were found: Arial, Liberation Sans, Bitstream Vera Sans, sans-serif\n",
      "findfont: Generic family 'sans-serif' not found because none of the following families were found: Arial, Liberation Sans, Bitstream Vera Sans, sans-serif\n",
      "findfont: Generic family 'sans-serif' not found because none of the following families were found: Arial, Liberation Sans, Bitstream Vera Sans, sans-serif\n",
      "findfont: Generic family 'sans-serif' not found because none of the following families were found: Arial, Liberation Sans, Bitstream Vera Sans, sans-serif\n",
      "findfont: Generic family 'sans-serif' not found because none of the following families were found: Arial, Liberation Sans, Bitstream Vera Sans, sans-serif\n",
      "findfont: Generic family 'sans-serif' not found because none of the following families were found: Arial, Liberation Sans, Bitstream Vera Sans, sans-serif\n",
      "findfont: Generic family 'sans-serif' not found because none of the following families were found: Arial, Liberation Sans, Bitstream Vera Sans, sans-serif\n",
      "findfont: Generic family 'sans-serif' not found because none of the following families were found: Arial, Liberation Sans, Bitstream Vera Sans, sans-serif\n",
      "findfont: Generic family 'sans-serif' not found because none of the following families were found: Arial, Liberation Sans, Bitstream Vera Sans, sans-serif\n"
     ]
    },
    {
     "data": {
      "image/png": "[encoded data removed]",
      "text/plain": [
       "<Figure size 1200x400 with 1 Axes>"
      ]
     },
     "metadata": {},
     "output_type": "display_data"
    }
   ],
   "source": [
    "indices = np.argsort(importances)[::-1]\n",
    "plt.figure(figsize=(12,4))\n",
    "plt.title(\"Feature importances by DecisionTreeClassifier\")\n",
    "plt.bar(range(len(indices)), importances[indices], color='lightblue',  align=\"center\")\n",
    "plt.xticks(range(len(indices)), feat_names[indices], rotation='vertical',fontsize=14)\n",
    "plt.xlim([-1, len(indices)])\n",
    "plt.show()"
   ]
  },
  {
   "cell_type": "markdown",
   "id": "7a2f50ad",
   "metadata": {},
   "source": [
    "#### Filtrando apenas os atributos relevantes."
   ]
  },
  {
   "cell_type": "code",
   "execution_count": 34,
   "id": "7363c56e",
   "metadata": {},
   "outputs": [],
   "source": [
    "X = df[[\"satisfaction\",\"evaluation\",\"averageMonthlyHours\",\"yearsAtCompany\"]]"
   ]
  },
  {
   "cell_type": "markdown",
   "id": "c608f61f",
   "metadata": {},
   "source": [
    "#### Separando os conjuntos de dados."
   ]
  },
  {
   "cell_type": "code",
   "execution_count": 35,
   "id": "b7bfe235",
   "metadata": {},
   "outputs": [],
   "source": [
    "scaler = MinMaxScaler()"
   ]
  },
  {
   "cell_type": "code",
   "execution_count": 36,
   "id": "9ace1d75",
   "metadata": {},
   "outputs": [],
   "source": [
    "X = scaler.fit_transform(X)"
   ]
  },
  {
   "cell_type": "code",
   "execution_count": 37,
   "id": "6df47cb3",
   "metadata": {},
   "outputs": [],
   "source": [
    "X_train, X_test, y_train, y_test = train_test_split(\n",
    "        X\n",
    "       ,y\n",
    "       ,test_size = 0.2\n",
    "       ,random_state = 123\n",
    "       ,stratify = y\n",
    ")"
   ]
  },
  {
   "cell_type": "code",
   "execution_count": 38,
   "id": "ee19664d",
   "metadata": {},
   "outputs": [
    {
     "data": {
      "text/plain": [
       "array([[0.59340659, 0.21875   , 0.40449438, 0.125     ],\n",
       "       [0.        , 0.703125  , 0.41573034, 0.25      ],\n",
       "       [0.3956044 , 0.28125   , 0.58426966, 0.125     ],\n",
       "       ...,\n",
       "       [0.32967033, 0.3125    , 0.59550562, 0.125     ],\n",
       "       [0.92307692, 0.28125   , 0.46067416, 0.        ],\n",
       "       [0.51648352, 0.5       , 0.53932584, 0.125     ]])"
      ]
     },
     "execution_count": 38,
     "metadata": {},
     "output_type": "execute_result"
    }
   ],
   "source": [
    "X_train"
   ]
  },
  {
   "cell_type": "markdown",
   "id": "233aef35",
   "metadata": {},
   "source": [
    "#### Função do modelo de base."
   ]
  },
  {
   "cell_type": "code",
   "execution_count": 39,
   "id": "862ce2ee",
   "metadata": {},
   "outputs": [],
   "source": [
    "def base_rate_model(X) :\n",
    "    y = np.zeros(X.shape[0])\n",
    "    return y"
   ]
  },
  {
   "cell_type": "markdown",
   "id": "9409f9ad",
   "metadata": {},
   "source": [
    "#### Importando métodos de métrica de avaliação."
   ]
  },
  {
   "cell_type": "code",
   "execution_count": 40,
   "id": "4c3e5be0",
   "metadata": {},
   "outputs": [],
   "source": [
    "from sklearn.metrics import roc_auc_score\n",
    "from sklearn.metrics import accuracy_score\n",
    "from sklearn.metrics import classification_report"
   ]
  },
  {
   "cell_type": "code",
   "execution_count": 41,
   "id": "f5a951ed",
   "metadata": {},
   "outputs": [],
   "source": [
    "def accuracy_result(y_test,y_predict):\n",
    "    acc = accuracy_score(y_test, y_predict)\n",
    "    print (\"Accuracy = %2.2f\" % acc)"
   ]
  },
  {
   "cell_type": "code",
   "execution_count": 42,
   "id": "c26617eb",
   "metadata": {},
   "outputs": [],
   "source": [
    "def roc_classification_report_results(model,y_test,y_predict):\n",
    "    roc_ = roc_auc_score(y_test, y_predict)\n",
    "    classfication_report = classification_report(y_test, y_predict)\n",
    "    \n",
    "    print (\"\\n{} AUC = {}\\n\".format(model, roc_))\n",
    "    print(classfication_report)"
   ]
  },
  {
   "cell_type": "markdown",
   "id": "08b4adeb",
   "metadata": {},
   "source": [
    "#### Análise do modelo de baseline"
   ]
  },
  {
   "cell_type": "code",
   "execution_count": 43,
   "id": "0aebf1fb",
   "metadata": {},
   "outputs": [],
   "source": [
    "y_predict = base_rate_model(X_test)"
   ]
  },
  {
   "cell_type": "code",
   "execution_count": 44,
   "id": "02804d58",
   "metadata": {},
   "outputs": [
    {
     "name": "stdout",
     "output_type": "stream",
     "text": [
      "Accuracy = 0.76\n"
     ]
    }
   ],
   "source": [
    "accuracy_result(y_test, y_predict)"
   ]
  },
  {
   "cell_type": "code",
   "execution_count": 45,
   "id": "905cac5f",
   "metadata": {},
   "outputs": [
    {
     "name": "stdout",
     "output_type": "stream",
     "text": [
      "\n",
      "Base Model AUC = 0.5\n",
      "\n",
      "              precision    recall  f1-score   support\n",
      "\n",
      "           0       0.76      1.00      0.86      2286\n",
      "           1       0.00      0.00      0.00       714\n",
      "\n",
      "    accuracy                           0.76      3000\n",
      "   macro avg       0.38      0.50      0.43      3000\n",
      "weighted avg       0.58      0.76      0.66      3000\n",
      "\n"
     ]
    }
   ],
   "source": [
    "roc_classification_report_results(\"Base Model\", y_test, y_predict)"
   ]
  },
  {
   "cell_type": "markdown",
   "id": "04850a75",
   "metadata": {},
   "source": [
    "### Modelo de Regressão Logística."
   ]
  },
  {
   "cell_type": "markdown",
   "id": "9a11b173",
   "metadata": {},
   "source": [
    "#### Instânciando o algoritmo."
   ]
  },
  {
   "cell_type": "code",
   "execution_count": 166,
   "id": "f9f2bc15",
   "metadata": {},
   "outputs": [],
   "source": [
    "#from sklearn.linear_model import LogisticRegression\n",
    "#logis = LogisticRegression()"
   ]
  },
  {
   "cell_type": "markdown",
   "id": "a6369bc1",
   "metadata": {},
   "source": [
    "#### Realizando o treinamento."
   ]
  },
  {
   "cell_type": "code",
   "execution_count": 164,
   "id": "3f761af6",
   "metadata": {
    "scrolled": true
   },
   "outputs": [],
   "source": [
    "#logis.fit(X_train, y_train)"
   ]
  },
  {
   "cell_type": "markdown",
   "id": "03651c5a",
   "metadata": {},
   "source": [
    "#### Calculando as predições."
   ]
  },
  {
   "cell_type": "code",
   "execution_count": 161,
   "id": "cd138e3c",
   "metadata": {},
   "outputs": [],
   "source": [
    "#y_predict = logis.predict(X_test)"
   ]
  },
  {
   "cell_type": "markdown",
   "id": "ad0e75d9",
   "metadata": {},
   "source": [
    "#### Avaliando o resultado."
   ]
  },
  {
   "cell_type": "code",
   "execution_count": 159,
   "id": "da03dbe1",
   "metadata": {},
   "outputs": [],
   "source": [
    "#accuracy_result(y_test, y_predict)"
   ]
  },
  {
   "cell_type": "code",
   "execution_count": 160,
   "id": "4800a256",
   "metadata": {},
   "outputs": [],
   "source": [
    "#roc_classification_report_results(\"Logistic Regression\", y_test, y_predict)"
   ]
  },
  {
   "cell_type": "markdown",
   "id": "00aaac7c",
   "metadata": {},
   "source": [
    "### Modelo de Arvore de decisão."
   ]
  },
  {
   "cell_type": "markdown",
   "id": "33524aac",
   "metadata": {},
   "source": [
    "#### Instânciando o algoritmo."
   ]
  },
  {
   "cell_type": "code",
   "execution_count": 171,
   "id": "95c50872",
   "metadata": {},
   "outputs": [],
   "source": [
    "#from sklearn.tree import DecisionTreeClassifier\n",
    "#dtree = DecisionTreeClassifier()"
   ]
  },
  {
   "cell_type": "markdown",
   "id": "3d7ad1c8",
   "metadata": {},
   "source": [
    "#### Realizando o treinamento."
   ]
  },
  {
   "cell_type": "code",
   "execution_count": 178,
   "id": "edcca31f",
   "metadata": {
    "scrolled": true
   },
   "outputs": [],
   "source": [
    "#dtree = dtree.fit(X_train,y_train)"
   ]
  },
  {
   "cell_type": "markdown",
   "id": "d3ac4673",
   "metadata": {},
   "source": [
    "#### Calculando as predições."
   ]
  },
  {
   "cell_type": "code",
   "execution_count": 173,
   "id": "9197176d",
   "metadata": {},
   "outputs": [],
   "source": [
    "#y_predict = dtree.predict(X_test)"
   ]
  },
  {
   "cell_type": "markdown",
   "id": "56a32296",
   "metadata": {},
   "source": [
    "#### Avaliando o resultado."
   ]
  },
  {
   "cell_type": "code",
   "execution_count": 177,
   "id": "bf8ad9d3",
   "metadata": {},
   "outputs": [],
   "source": [
    "#accuracy_result(y_test, y_predict)"
   ]
  },
  {
   "cell_type": "code",
   "execution_count": 176,
   "id": "93b86d22",
   "metadata": {},
   "outputs": [],
   "source": [
    "#roc_classification_report_results(\"Decision Tree\", y_test, y_predict)"
   ]
  },
  {
   "cell_type": "markdown",
   "id": "cd27a5ab",
   "metadata": {},
   "source": [
    "### Modelo de Arvore Aleatória (Random Forest)"
   ]
  },
  {
   "cell_type": "markdown",
   "id": "9b42b9d5",
   "metadata": {},
   "source": [
    "#### Instânciando o algoritmo."
   ]
  },
  {
   "cell_type": "code",
   "execution_count": 185,
   "id": "6dab769b",
   "metadata": {},
   "outputs": [],
   "source": [
    "#from sklearn.ensemble import RandomForestClassifier"
   ]
  },
  {
   "cell_type": "code",
   "execution_count": 186,
   "id": "3e0c74f5",
   "metadata": {},
   "outputs": [],
   "source": [
    "#rf = RandomForestClassifier()"
   ]
  },
  {
   "cell_type": "markdown",
   "id": "193d0577",
   "metadata": {},
   "source": [
    "#### Realizando o treinamento."
   ]
  },
  {
   "cell_type": "code",
   "execution_count": 187,
   "id": "8469a48a",
   "metadata": {
    "scrolled": true
   },
   "outputs": [],
   "source": [
    "#rf = rf.fit(X_train,y_train)"
   ]
  },
  {
   "cell_type": "markdown",
   "id": "3a77f475",
   "metadata": {},
   "source": [
    "#### Calculando as predições."
   ]
  },
  {
   "cell_type": "code",
   "execution_count": 188,
   "id": "58e16f6c",
   "metadata": {},
   "outputs": [],
   "source": [
    "#y_predict = rf.predict(X_test)"
   ]
  },
  {
   "cell_type": "markdown",
   "id": "5b56117a",
   "metadata": {},
   "source": [
    "#### Avaliando o resultado."
   ]
  },
  {
   "cell_type": "code",
   "execution_count": 189,
   "id": "ee9583e8",
   "metadata": {},
   "outputs": [],
   "source": [
    "#accuracy_result(y_test, y_predict)"
   ]
  },
  {
   "cell_type": "code",
   "execution_count": 190,
   "id": "8853f34b",
   "metadata": {},
   "outputs": [],
   "source": [
    "#roc_classification_report_results(\"Random Forest\", y_test, y_predict)"
   ]
  },
  {
   "cell_type": "markdown",
   "id": "69e52b1b",
   "metadata": {},
   "source": [
    "### Pycaret"
   ]
  },
  {
   "cell_type": "code",
   "execution_count": 1,
   "id": "c1c28e3d-bc06-4609-93c0-47f77c93c553",
   "metadata": {},
   "outputs": [],
   "source": [
    "pip install pycaret"
   ]
  },
  {
   "cell_type": "code",
   "execution_count": 5,
   "id": "85d2e73d",
   "metadata": {
    "tags": []
   },
   "outputs": [],
   "source": [
    "#pip install pycaret"
   ]
  },
  {
   "cell_type": "code",
   "execution_count": 4,
   "id": "3ef92041-b963-4454-a9ff-1c46abf3d66c",
   "metadata": {},
   "outputs": [],
   "source": [
    "#import scipy\n",
    "#print(scipy.__version__)"
   ]
  },
  {
   "cell_type": "code",
   "execution_count": 6,
   "id": "0826bfe3-eb5a-4344-ac8d-b53cc545b306",
   "metadata": {},
   "outputs": [],
   "source": [
    "#%pip install scipy==1.11.4"
   ]
  },
  {
   "cell_type": "markdown",
   "id": "421de2bf",
   "metadata": {},
   "source": [
    "#### Importando os métodos."
   ]
  },
  {
   "cell_type": "code",
   "execution_count": 2,
   "id": "0552d213",
   "metadata": {},
   "outputs": [],
   "source": [
    "from pycaret.classification import*"
   ]
  },
  {
   "cell_type": "markdown",
   "id": "2fa945c2",
   "metadata": {},
   "source": [
    "#### Definindo o Setup."
   ]
  },
  {
   "cell_type": "code",
   "execution_count": 46,
   "id": "5de9ab9b",
   "metadata": {
    "tags": []
   },
   "outputs": [
    {
     "data": {
      "text/html": [
       "<style type=\"text/css\">\n",
       "#T_41a08_row8_col1, #T_41a08_row12_col1, #T_41a08_row14_col1 {\n",
       "  background-color: lightgreen;\n",
       "}\n",
       "</style>\n",
       "<table id=\"T_41a08\">\n",
       "  <thead>\n",
       "    <tr>\n",
       "      <th class=\"blank level0\" >&nbsp;</th>\n",
       "      <th id=\"T_41a08_level0_col0\" class=\"col_heading level0 col0\" >Description</th>\n",
       "      <th id=\"T_41a08_level0_col1\" class=\"col_heading level0 col1\" >Value</th>\n",
       "    </tr>\n",
       "  </thead>\n",
       "  <tbody>\n",
       "    <tr>\n",
       "      <th id=\"T_41a08_level0_row0\" class=\"row_heading level0 row0\" >0</th>\n",
       "      <td id=\"T_41a08_row0_col0\" class=\"data row0 col0\" >Session id</td>\n",
       "      <td id=\"T_41a08_row0_col1\" class=\"data row0 col1\" >3105</td>\n",
       "    </tr>\n",
       "    <tr>\n",
       "      <th id=\"T_41a08_level0_row1\" class=\"row_heading level0 row1\" >1</th>\n",
       "      <td id=\"T_41a08_row1_col0\" class=\"data row1 col0\" >Target</td>\n",
       "      <td id=\"T_41a08_row1_col1\" class=\"data row1 col1\" >turnover</td>\n",
       "    </tr>\n",
       "    <tr>\n",
       "      <th id=\"T_41a08_level0_row2\" class=\"row_heading level0 row2\" >2</th>\n",
       "      <td id=\"T_41a08_row2_col0\" class=\"data row2 col0\" >Target type</td>\n",
       "      <td id=\"T_41a08_row2_col1\" class=\"data row2 col1\" >Binary</td>\n",
       "    </tr>\n",
       "    <tr>\n",
       "      <th id=\"T_41a08_level0_row3\" class=\"row_heading level0 row3\" >3</th>\n",
       "      <td id=\"T_41a08_row3_col0\" class=\"data row3 col0\" >Original data shape</td>\n",
       "      <td id=\"T_41a08_row3_col1\" class=\"data row3 col1\" >(14998, 5)</td>\n",
       "    </tr>\n",
       "    <tr>\n",
       "      <th id=\"T_41a08_level0_row4\" class=\"row_heading level0 row4\" >4</th>\n",
       "      <td id=\"T_41a08_row4_col0\" class=\"data row4 col0\" >Transformed data shape</td>\n",
       "      <td id=\"T_41a08_row4_col1\" class=\"data row4 col1\" >(20498, 5)</td>\n",
       "    </tr>\n",
       "    <tr>\n",
       "      <th id=\"T_41a08_level0_row5\" class=\"row_heading level0 row5\" >5</th>\n",
       "      <td id=\"T_41a08_row5_col0\" class=\"data row5 col0\" >Transformed train set shape</td>\n",
       "      <td id=\"T_41a08_row5_col1\" class=\"data row5 col1\" >(15998, 5)</td>\n",
       "    </tr>\n",
       "    <tr>\n",
       "      <th id=\"T_41a08_level0_row6\" class=\"row_heading level0 row6\" >6</th>\n",
       "      <td id=\"T_41a08_row6_col0\" class=\"data row6 col0\" >Transformed test set shape</td>\n",
       "      <td id=\"T_41a08_row6_col1\" class=\"data row6 col1\" >(4500, 5)</td>\n",
       "    </tr>\n",
       "    <tr>\n",
       "      <th id=\"T_41a08_level0_row7\" class=\"row_heading level0 row7\" >7</th>\n",
       "      <td id=\"T_41a08_row7_col0\" class=\"data row7 col0\" >Numeric features</td>\n",
       "      <td id=\"T_41a08_row7_col1\" class=\"data row7 col1\" >1</td>\n",
       "    </tr>\n",
       "    <tr>\n",
       "      <th id=\"T_41a08_level0_row8\" class=\"row_heading level0 row8\" >8</th>\n",
       "      <td id=\"T_41a08_row8_col0\" class=\"data row8 col0\" >Preprocess</td>\n",
       "      <td id=\"T_41a08_row8_col1\" class=\"data row8 col1\" >True</td>\n",
       "    </tr>\n",
       "    <tr>\n",
       "      <th id=\"T_41a08_level0_row9\" class=\"row_heading level0 row9\" >9</th>\n",
       "      <td id=\"T_41a08_row9_col0\" class=\"data row9 col0\" >Imputation type</td>\n",
       "      <td id=\"T_41a08_row9_col1\" class=\"data row9 col1\" >simple</td>\n",
       "    </tr>\n",
       "    <tr>\n",
       "      <th id=\"T_41a08_level0_row10\" class=\"row_heading level0 row10\" >10</th>\n",
       "      <td id=\"T_41a08_row10_col0\" class=\"data row10 col0\" >Numeric imputation</td>\n",
       "      <td id=\"T_41a08_row10_col1\" class=\"data row10 col1\" >mean</td>\n",
       "    </tr>\n",
       "    <tr>\n",
       "      <th id=\"T_41a08_level0_row11\" class=\"row_heading level0 row11\" >11</th>\n",
       "      <td id=\"T_41a08_row11_col0\" class=\"data row11 col0\" >Categorical imputation</td>\n",
       "      <td id=\"T_41a08_row11_col1\" class=\"data row11 col1\" >mode</td>\n",
       "    </tr>\n",
       "    <tr>\n",
       "      <th id=\"T_41a08_level0_row12\" class=\"row_heading level0 row12\" >12</th>\n",
       "      <td id=\"T_41a08_row12_col0\" class=\"data row12 col0\" >Fix imbalance</td>\n",
       "      <td id=\"T_41a08_row12_col1\" class=\"data row12 col1\" >True</td>\n",
       "    </tr>\n",
       "    <tr>\n",
       "      <th id=\"T_41a08_level0_row13\" class=\"row_heading level0 row13\" >13</th>\n",
       "      <td id=\"T_41a08_row13_col0\" class=\"data row13 col0\" >Fix imbalance method</td>\n",
       "      <td id=\"T_41a08_row13_col1\" class=\"data row13 col1\" >SMOTE</td>\n",
       "    </tr>\n",
       "    <tr>\n",
       "      <th id=\"T_41a08_level0_row14\" class=\"row_heading level0 row14\" >14</th>\n",
       "      <td id=\"T_41a08_row14_col0\" class=\"data row14 col0\" >Normalize</td>\n",
       "      <td id=\"T_41a08_row14_col1\" class=\"data row14 col1\" >True</td>\n",
       "    </tr>\n",
       "    <tr>\n",
       "      <th id=\"T_41a08_level0_row15\" class=\"row_heading level0 row15\" >15</th>\n",
       "      <td id=\"T_41a08_row15_col0\" class=\"data row15 col0\" >Normalize method</td>\n",
       "      <td id=\"T_41a08_row15_col1\" class=\"data row15 col1\" >minmax</td>\n",
       "    </tr>\n",
       "    <tr>\n",
       "      <th id=\"T_41a08_level0_row16\" class=\"row_heading level0 row16\" >16</th>\n",
       "      <td id=\"T_41a08_row16_col0\" class=\"data row16 col0\" >Fold Generator</td>\n",
       "      <td id=\"T_41a08_row16_col1\" class=\"data row16 col1\" >StratifiedKFold</td>\n",
       "    </tr>\n",
       "    <tr>\n",
       "      <th id=\"T_41a08_level0_row17\" class=\"row_heading level0 row17\" >17</th>\n",
       "      <td id=\"T_41a08_row17_col0\" class=\"data row17 col0\" >Fold Number</td>\n",
       "      <td id=\"T_41a08_row17_col1\" class=\"data row17 col1\" >10</td>\n",
       "    </tr>\n",
       "    <tr>\n",
       "      <th id=\"T_41a08_level0_row18\" class=\"row_heading level0 row18\" >18</th>\n",
       "      <td id=\"T_41a08_row18_col0\" class=\"data row18 col0\" >CPU Jobs</td>\n",
       "      <td id=\"T_41a08_row18_col1\" class=\"data row18 col1\" >-1</td>\n",
       "    </tr>\n",
       "    <tr>\n",
       "      <th id=\"T_41a08_level0_row19\" class=\"row_heading level0 row19\" >19</th>\n",
       "      <td id=\"T_41a08_row19_col0\" class=\"data row19 col0\" >Use GPU</td>\n",
       "      <td id=\"T_41a08_row19_col1\" class=\"data row19 col1\" >False</td>\n",
       "    </tr>\n",
       "    <tr>\n",
       "      <th id=\"T_41a08_level0_row20\" class=\"row_heading level0 row20\" >20</th>\n",
       "      <td id=\"T_41a08_row20_col0\" class=\"data row20 col0\" >Log Experiment</td>\n",
       "      <td id=\"T_41a08_row20_col1\" class=\"data row20 col1\" >False</td>\n",
       "    </tr>\n",
       "    <tr>\n",
       "      <th id=\"T_41a08_level0_row21\" class=\"row_heading level0 row21\" >21</th>\n",
       "      <td id=\"T_41a08_row21_col0\" class=\"data row21 col0\" >Experiment Name</td>\n",
       "      <td id=\"T_41a08_row21_col1\" class=\"data row21 col1\" >clf-default-name</td>\n",
       "    </tr>\n",
       "    <tr>\n",
       "      <th id=\"T_41a08_level0_row22\" class=\"row_heading level0 row22\" >22</th>\n",
       "      <td id=\"T_41a08_row22_col0\" class=\"data row22 col0\" >USI</td>\n",
       "      <td id=\"T_41a08_row22_col1\" class=\"data row22 col1\" >7472</td>\n",
       "    </tr>\n",
       "  </tbody>\n",
       "</table>\n"
      ],
      "text/plain": [
       "<pandas.io.formats.style.Styler at 0x7f597456c390>"
      ]
     },
     "metadata": {},
     "output_type": "display_data"
    }
   ],
   "source": [
    "s = setup( df[[\"satisfaction\",\"evaluation\",\"averageMonthlyHours\",\"yearsAtCompany\",\"turnover\"]]\n",
    "          ,target = \"turnover\"\n",
    "          ,numeric_features = [\"yearsAtCompany\"]\n",
    "          ,normalize = True\n",
    "          ,normalize_method = \"minmax\"\n",
    "          ,data_split_stratify = True\n",
    "          ,fix_imbalance = True,\n",
    "         )"
   ]
  },
  {
   "cell_type": "markdown",
   "id": "6612ce69",
   "metadata": {
    "tags": []
   },
   "source": [
    "#### Comparando diferentes modelos."
   ]
  },
  {
   "cell_type": "code",
   "execution_count": 47,
   "id": "02172f9a",
   "metadata": {},
   "outputs": [
    {
     "data": {
      "text/html": [],
      "text/plain": [
       "<IPython.core.display.HTML object>"
      ]
     },
     "metadata": {},
     "output_type": "display_data"
    },
    {
     "data": {
      "text/html": [
       "<style type=\"text/css\">\n",
       "#T_1917e th {\n",
       "  text-align: left;\n",
       "}\n",
       "#T_1917e_row0_col0, #T_1917e_row0_col1, #T_1917e_row0_col3, #T_1917e_row0_col4, #T_1917e_row0_col5, #T_1917e_row0_col6, #T_1917e_row0_col7, #T_1917e_row1_col0, #T_1917e_row1_col1, #T_1917e_row1_col2, #T_1917e_row1_col3, #T_1917e_row1_col4, #T_1917e_row1_col5, #T_1917e_row1_col6, #T_1917e_row1_col7, #T_1917e_row2_col0, #T_1917e_row2_col1, #T_1917e_row2_col2, #T_1917e_row2_col3, #T_1917e_row2_col4, #T_1917e_row2_col5, #T_1917e_row2_col6, #T_1917e_row2_col7, #T_1917e_row3_col0, #T_1917e_row3_col1, #T_1917e_row3_col2, #T_1917e_row3_col4, #T_1917e_row3_col5, #T_1917e_row3_col6, #T_1917e_row3_col7, #T_1917e_row4_col0, #T_1917e_row4_col1, #T_1917e_row4_col2, #T_1917e_row4_col3, #T_1917e_row4_col4, #T_1917e_row4_col5, #T_1917e_row4_col6, #T_1917e_row4_col7, #T_1917e_row5_col0, #T_1917e_row5_col1, #T_1917e_row5_col2, #T_1917e_row5_col3, #T_1917e_row5_col4, #T_1917e_row5_col5, #T_1917e_row5_col6, #T_1917e_row5_col7, #T_1917e_row6_col0, #T_1917e_row6_col1, #T_1917e_row6_col2, #T_1917e_row6_col3, #T_1917e_row6_col4, #T_1917e_row6_col5, #T_1917e_row6_col6, #T_1917e_row6_col7, #T_1917e_row7_col0, #T_1917e_row7_col1, #T_1917e_row7_col2, #T_1917e_row7_col3, #T_1917e_row7_col4, #T_1917e_row7_col5, #T_1917e_row7_col6, #T_1917e_row7_col7, #T_1917e_row8_col0, #T_1917e_row8_col1, #T_1917e_row8_col2, #T_1917e_row8_col3, #T_1917e_row8_col4, #T_1917e_row8_col5, #T_1917e_row8_col6, #T_1917e_row8_col7, #T_1917e_row9_col0, #T_1917e_row9_col1, #T_1917e_row9_col2, #T_1917e_row9_col3, #T_1917e_row9_col4, #T_1917e_row9_col5, #T_1917e_row9_col6, #T_1917e_row9_col7, #T_1917e_row10_col0, #T_1917e_row10_col2, #T_1917e_row10_col3, #T_1917e_row11_col0, #T_1917e_row11_col1, #T_1917e_row11_col2, #T_1917e_row11_col3, #T_1917e_row11_col4, #T_1917e_row11_col5, #T_1917e_row11_col6, #T_1917e_row11_col7, #T_1917e_row12_col0, #T_1917e_row12_col1, #T_1917e_row12_col2, #T_1917e_row12_col3, #T_1917e_row12_col4, #T_1917e_row12_col5, #T_1917e_row12_col6, #T_1917e_row12_col7, #T_1917e_row13_col0, #T_1917e_row13_col1, #T_1917e_row13_col2, #T_1917e_row13_col3, #T_1917e_row13_col4, #T_1917e_row13_col5, #T_1917e_row13_col6, #T_1917e_row13_col7 {\n",
       "  text-align: left;\n",
       "}\n",
       "#T_1917e_row0_col2, #T_1917e_row3_col3, #T_1917e_row10_col1, #T_1917e_row10_col4, #T_1917e_row10_col5, #T_1917e_row10_col6, #T_1917e_row10_col7 {\n",
       "  text-align: left;\n",
       "  background-color: yellow;\n",
       "}\n",
       "#T_1917e_row0_col8, #T_1917e_row1_col8, #T_1917e_row2_col8, #T_1917e_row3_col8, #T_1917e_row4_col8, #T_1917e_row5_col8, #T_1917e_row6_col8, #T_1917e_row7_col8, #T_1917e_row8_col8, #T_1917e_row9_col8, #T_1917e_row10_col8, #T_1917e_row11_col8, #T_1917e_row12_col8 {\n",
       "  text-align: left;\n",
       "  background-color: lightgrey;\n",
       "}\n",
       "#T_1917e_row13_col8 {\n",
       "  text-align: left;\n",
       "  background-color: yellow;\n",
       "  background-color: lightgrey;\n",
       "}\n",
       "</style>\n",
       "<table id=\"T_1917e\">\n",
       "  <thead>\n",
       "    <tr>\n",
       "      <th class=\"blank level0\" >&nbsp;</th>\n",
       "      <th id=\"T_1917e_level0_col0\" class=\"col_heading level0 col0\" >Model</th>\n",
       "      <th id=\"T_1917e_level0_col1\" class=\"col_heading level0 col1\" >Accuracy</th>\n",
       "      <th id=\"T_1917e_level0_col2\" class=\"col_heading level0 col2\" >AUC</th>\n",
       "      <th id=\"T_1917e_level0_col3\" class=\"col_heading level0 col3\" >Recall</th>\n",
       "      <th id=\"T_1917e_level0_col4\" class=\"col_heading level0 col4\" >Prec.</th>\n",
       "      <th id=\"T_1917e_level0_col5\" class=\"col_heading level0 col5\" >F1</th>\n",
       "      <th id=\"T_1917e_level0_col6\" class=\"col_heading level0 col6\" >Kappa</th>\n",
       "      <th id=\"T_1917e_level0_col7\" class=\"col_heading level0 col7\" >MCC</th>\n",
       "      <th id=\"T_1917e_level0_col8\" class=\"col_heading level0 col8\" >TT (Sec)</th>\n",
       "    </tr>\n",
       "  </thead>\n",
       "  <tbody>\n",
       "    <tr>\n",
       "      <th id=\"T_1917e_level0_row0\" class=\"row_heading level0 row0\" >lr</th>\n",
       "      <td id=\"T_1917e_row0_col0\" class=\"data row0 col0\" >Logistic Regression</td>\n",
       "      <td id=\"T_1917e_row0_col1\" class=\"data row0 col1\" >0.6719</td>\n",
       "      <td id=\"T_1917e_row0_col2\" class=\"data row0 col2\" >0.6773</td>\n",
       "      <td id=\"T_1917e_row0_col3\" class=\"data row0 col3\" >0.6327</td>\n",
       "      <td id=\"T_1917e_row0_col4\" class=\"data row0 col4\" >0.3850</td>\n",
       "      <td id=\"T_1917e_row0_col5\" class=\"data row0 col5\" >0.4786</td>\n",
       "      <td id=\"T_1917e_row0_col6\" class=\"data row0 col6\" >0.2594</td>\n",
       "      <td id=\"T_1917e_row0_col7\" class=\"data row0 col7\" >0.2766</td>\n",
       "      <td id=\"T_1917e_row0_col8\" class=\"data row0 col8\" >0.4500</td>\n",
       "    </tr>\n",
       "    <tr>\n",
       "      <th id=\"T_1917e_level0_row1\" class=\"row_heading level0 row1\" >lda</th>\n",
       "      <td id=\"T_1917e_row1_col0\" class=\"data row1 col0\" >Linear Discriminant Analysis</td>\n",
       "      <td id=\"T_1917e_row1_col1\" class=\"data row1 col1\" >0.6759</td>\n",
       "      <td id=\"T_1917e_row1_col2\" class=\"data row1 col2\" >0.6772</td>\n",
       "      <td id=\"T_1917e_row1_col3\" class=\"data row1 col3\" >0.6258</td>\n",
       "      <td id=\"T_1917e_row1_col4\" class=\"data row1 col4\" >0.3880</td>\n",
       "      <td id=\"T_1917e_row1_col5\" class=\"data row1 col5\" >0.4790</td>\n",
       "      <td id=\"T_1917e_row1_col6\" class=\"data row1 col6\" >0.2622</td>\n",
       "      <td id=\"T_1917e_row1_col7\" class=\"data row1 col7\" >0.2780</td>\n",
       "      <td id=\"T_1917e_row1_col8\" class=\"data row1 col8\" >0.0220</td>\n",
       "    </tr>\n",
       "    <tr>\n",
       "      <th id=\"T_1917e_level0_row2\" class=\"row_heading level0 row2\" >nb</th>\n",
       "      <td id=\"T_1917e_row2_col0\" class=\"data row2 col0\" >Naive Bayes</td>\n",
       "      <td id=\"T_1917e_row2_col1\" class=\"data row2 col1\" >0.7037</td>\n",
       "      <td id=\"T_1917e_row2_col2\" class=\"data row2 col2\" >0.6467</td>\n",
       "      <td id=\"T_1917e_row2_col3\" class=\"data row2 col3\" >0.5886</td>\n",
       "      <td id=\"T_1917e_row2_col4\" class=\"data row2 col4\" >0.4140</td>\n",
       "      <td id=\"T_1917e_row2_col5\" class=\"data row2 col5\" >0.4860</td>\n",
       "      <td id=\"T_1917e_row2_col6\" class=\"data row2 col6\" >0.2867</td>\n",
       "      <td id=\"T_1917e_row2_col7\" class=\"data row2 col7\" >0.2955</td>\n",
       "      <td id=\"T_1917e_row2_col8\" class=\"data row2 col8\" >0.2640</td>\n",
       "    </tr>\n",
       "    <tr>\n",
       "      <th id=\"T_1917e_level0_row3\" class=\"row_heading level0 row3\" >qda</th>\n",
       "      <td id=\"T_1917e_row3_col0\" class=\"data row3 col0\" >Quadratic Discriminant Analysis</td>\n",
       "      <td id=\"T_1917e_row3_col1\" class=\"data row3 col1\" >0.7142</td>\n",
       "      <td id=\"T_1917e_row3_col2\" class=\"data row3 col2\" >0.5799</td>\n",
       "      <td id=\"T_1917e_row3_col3\" class=\"data row3 col3\" >0.7459</td>\n",
       "      <td id=\"T_1917e_row3_col4\" class=\"data row3 col4\" >0.4409</td>\n",
       "      <td id=\"T_1917e_row3_col5\" class=\"data row3 col5\" >0.5541</td>\n",
       "      <td id=\"T_1917e_row3_col6\" class=\"data row3 col6\" >0.3637</td>\n",
       "      <td id=\"T_1917e_row3_col7\" class=\"data row3 col7\" >0.3911</td>\n",
       "      <td id=\"T_1917e_row3_col8\" class=\"data row3 col8\" >0.0200</td>\n",
       "    </tr>\n",
       "    <tr>\n",
       "      <th id=\"T_1917e_level0_row4\" class=\"row_heading level0 row4\" >knn</th>\n",
       "      <td id=\"T_1917e_row4_col0\" class=\"data row4 col0\" >K Neighbors Classifier</td>\n",
       "      <td id=\"T_1917e_row4_col1\" class=\"data row4 col1\" >0.7569</td>\n",
       "      <td id=\"T_1917e_row4_col2\" class=\"data row4 col2\" >0.5000</td>\n",
       "      <td id=\"T_1917e_row4_col3\" class=\"data row4 col3\" >0.6755</td>\n",
       "      <td id=\"T_1917e_row4_col4\" class=\"data row4 col4\" >0.4926</td>\n",
       "      <td id=\"T_1917e_row4_col5\" class=\"data row4 col5\" >0.5696</td>\n",
       "      <td id=\"T_1917e_row4_col6\" class=\"data row4 col6\" >0.4060</td>\n",
       "      <td id=\"T_1917e_row4_col7\" class=\"data row4 col7\" >0.4159</td>\n",
       "      <td id=\"T_1917e_row4_col8\" class=\"data row4 col8\" >0.3540</td>\n",
       "    </tr>\n",
       "    <tr>\n",
       "      <th id=\"T_1917e_level0_row5\" class=\"row_heading level0 row5\" >dt</th>\n",
       "      <td id=\"T_1917e_row5_col0\" class=\"data row5 col0\" >Decision Tree Classifier</td>\n",
       "      <td id=\"T_1917e_row5_col1\" class=\"data row5 col1\" >0.7455</td>\n",
       "      <td id=\"T_1917e_row5_col2\" class=\"data row5 col2\" >0.5000</td>\n",
       "      <td id=\"T_1917e_row5_col3\" class=\"data row5 col3\" >0.4922</td>\n",
       "      <td id=\"T_1917e_row5_col4\" class=\"data row5 col4\" >0.4676</td>\n",
       "      <td id=\"T_1917e_row5_col5\" class=\"data row5 col5\" >0.4792</td>\n",
       "      <td id=\"T_1917e_row5_col6\" class=\"data row5 col6\" >0.3110</td>\n",
       "      <td id=\"T_1917e_row5_col7\" class=\"data row5 col7\" >0.3114</td>\n",
       "      <td id=\"T_1917e_row5_col8\" class=\"data row5 col8\" >0.0240</td>\n",
       "    </tr>\n",
       "    <tr>\n",
       "      <th id=\"T_1917e_level0_row6\" class=\"row_heading level0 row6\" >rf</th>\n",
       "      <td id=\"T_1917e_row6_col0\" class=\"data row6 col0\" >Random Forest Classifier</td>\n",
       "      <td id=\"T_1917e_row6_col1\" class=\"data row6 col1\" >0.8197</td>\n",
       "      <td id=\"T_1917e_row6_col2\" class=\"data row6 col2\" >0.5000</td>\n",
       "      <td id=\"T_1917e_row6_col3\" class=\"data row6 col3\" >0.5586</td>\n",
       "      <td id=\"T_1917e_row6_col4\" class=\"data row6 col4\" >0.6393</td>\n",
       "      <td id=\"T_1917e_row6_col5\" class=\"data row6 col5\" >0.5960</td>\n",
       "      <td id=\"T_1917e_row6_col6\" class=\"data row6 col6\" >0.4806</td>\n",
       "      <td id=\"T_1917e_row6_col7\" class=\"data row6 col7\" >0.4826</td>\n",
       "      <td id=\"T_1917e_row6_col8\" class=\"data row6 col8\" >0.2720</td>\n",
       "    </tr>\n",
       "    <tr>\n",
       "      <th id=\"T_1917e_level0_row7\" class=\"row_heading level0 row7\" >ada</th>\n",
       "      <td id=\"T_1917e_row7_col0\" class=\"data row7 col0\" >Ada Boost Classifier</td>\n",
       "      <td id=\"T_1917e_row7_col1\" class=\"data row7 col1\" >0.8138</td>\n",
       "      <td id=\"T_1917e_row7_col2\" class=\"data row7 col2\" >0.5000</td>\n",
       "      <td id=\"T_1917e_row7_col3\" class=\"data row7 col3\" >0.6819</td>\n",
       "      <td id=\"T_1917e_row7_col4\" class=\"data row7 col4\" >0.5951</td>\n",
       "      <td id=\"T_1917e_row7_col5\" class=\"data row7 col5\" >0.6354</td>\n",
       "      <td id=\"T_1917e_row7_col6\" class=\"data row7 col6\" >0.5112</td>\n",
       "      <td id=\"T_1917e_row7_col7\" class=\"data row7 col7\" >0.5134</td>\n",
       "      <td id=\"T_1917e_row7_col8\" class=\"data row7 col8\" >0.0760</td>\n",
       "    </tr>\n",
       "    <tr>\n",
       "      <th id=\"T_1917e_level0_row8\" class=\"row_heading level0 row8\" >gbc</th>\n",
       "      <td id=\"T_1917e_row8_col0\" class=\"data row8 col0\" >Gradient Boosting Classifier</td>\n",
       "      <td id=\"T_1917e_row8_col1\" class=\"data row8 col1\" >0.8351</td>\n",
       "      <td id=\"T_1917e_row8_col2\" class=\"data row8 col2\" >0.5000</td>\n",
       "      <td id=\"T_1917e_row8_col3\" class=\"data row8 col3\" >0.6815</td>\n",
       "      <td id=\"T_1917e_row8_col4\" class=\"data row8 col4\" >0.6459</td>\n",
       "      <td id=\"T_1917e_row8_col5\" class=\"data row8 col5\" >0.6631</td>\n",
       "      <td id=\"T_1917e_row8_col6\" class=\"data row8 col6\" >0.5541</td>\n",
       "      <td id=\"T_1917e_row8_col7\" class=\"data row8 col7\" >0.5545</td>\n",
       "      <td id=\"T_1917e_row8_col8\" class=\"data row8 col8\" >0.1960</td>\n",
       "    </tr>\n",
       "    <tr>\n",
       "      <th id=\"T_1917e_level0_row9\" class=\"row_heading level0 row9\" >et</th>\n",
       "      <td id=\"T_1917e_row9_col0\" class=\"data row9 col0\" >Extra Trees Classifier</td>\n",
       "      <td id=\"T_1917e_row9_col1\" class=\"data row9 col1\" >0.8100</td>\n",
       "      <td id=\"T_1917e_row9_col2\" class=\"data row9 col2\" >0.5000</td>\n",
       "      <td id=\"T_1917e_row9_col3\" class=\"data row9 col3\" >0.5366</td>\n",
       "      <td id=\"T_1917e_row9_col4\" class=\"data row9 col4\" >0.6158</td>\n",
       "      <td id=\"T_1917e_row9_col5\" class=\"data row9 col5\" >0.5733</td>\n",
       "      <td id=\"T_1917e_row9_col6\" class=\"data row9 col6\" >0.4518</td>\n",
       "      <td id=\"T_1917e_row9_col7\" class=\"data row9 col7\" >0.4537</td>\n",
       "      <td id=\"T_1917e_row9_col8\" class=\"data row9 col8\" >0.2040</td>\n",
       "    </tr>\n",
       "    <tr>\n",
       "      <th id=\"T_1917e_level0_row10\" class=\"row_heading level0 row10\" >lightgbm</th>\n",
       "      <td id=\"T_1917e_row10_col0\" class=\"data row10 col0\" >Light Gradient Boosting Machine</td>\n",
       "      <td id=\"T_1917e_row10_col1\" class=\"data row10 col1\" >0.8449</td>\n",
       "      <td id=\"T_1917e_row10_col2\" class=\"data row10 col2\" >0.5000</td>\n",
       "      <td id=\"T_1917e_row10_col3\" class=\"data row10 col3\" >0.6539</td>\n",
       "      <td id=\"T_1917e_row10_col4\" class=\"data row10 col4\" >0.6819</td>\n",
       "      <td id=\"T_1917e_row10_col5\" class=\"data row10 col5\" >0.6675</td>\n",
       "      <td id=\"T_1917e_row10_col6\" class=\"data row10 col6\" >0.5664</td>\n",
       "      <td id=\"T_1917e_row10_col7\" class=\"data row10 col7\" >0.5667</td>\n",
       "      <td id=\"T_1917e_row10_col8\" class=\"data row10 col8\" >33.9400</td>\n",
       "    </tr>\n",
       "    <tr>\n",
       "      <th id=\"T_1917e_level0_row11\" class=\"row_heading level0 row11\" >dummy</th>\n",
       "      <td id=\"T_1917e_row11_col0\" class=\"data row11 col0\" >Dummy Classifier</td>\n",
       "      <td id=\"T_1917e_row11_col1\" class=\"data row11 col1\" >0.7620</td>\n",
       "      <td id=\"T_1917e_row11_col2\" class=\"data row11 col2\" >0.5000</td>\n",
       "      <td id=\"T_1917e_row11_col3\" class=\"data row11 col3\" >0.0000</td>\n",
       "      <td id=\"T_1917e_row11_col4\" class=\"data row11 col4\" >0.0000</td>\n",
       "      <td id=\"T_1917e_row11_col5\" class=\"data row11 col5\" >0.0000</td>\n",
       "      <td id=\"T_1917e_row11_col6\" class=\"data row11 col6\" >0.0000</td>\n",
       "      <td id=\"T_1917e_row11_col7\" class=\"data row11 col7\" >0.0000</td>\n",
       "      <td id=\"T_1917e_row11_col8\" class=\"data row11 col8\" >0.0200</td>\n",
       "    </tr>\n",
       "    <tr>\n",
       "      <th id=\"T_1917e_level0_row12\" class=\"row_heading level0 row12\" >svm</th>\n",
       "      <td id=\"T_1917e_row12_col0\" class=\"data row12 col0\" >SVM - Linear Kernel</td>\n",
       "      <td id=\"T_1917e_row12_col1\" class=\"data row12 col1\" >0.6549</td>\n",
       "      <td id=\"T_1917e_row12_col2\" class=\"data row12 col2\" >0.0000</td>\n",
       "      <td id=\"T_1917e_row12_col3\" class=\"data row12 col3\" >0.6418</td>\n",
       "      <td id=\"T_1917e_row12_col4\" class=\"data row12 col4\" >0.3724</td>\n",
       "      <td id=\"T_1917e_row12_col5\" class=\"data row12 col5\" >0.4697</td>\n",
       "      <td id=\"T_1917e_row12_col6\" class=\"data row12 col6\" >0.2411</td>\n",
       "      <td id=\"T_1917e_row12_col7\" class=\"data row12 col7\" >0.2617</td>\n",
       "      <td id=\"T_1917e_row12_col8\" class=\"data row12 col8\" >0.0220</td>\n",
       "    </tr>\n",
       "    <tr>\n",
       "      <th id=\"T_1917e_level0_row13\" class=\"row_heading level0 row13\" >ridge</th>\n",
       "      <td id=\"T_1917e_row13_col0\" class=\"data row13 col0\" >Ridge Classifier</td>\n",
       "      <td id=\"T_1917e_row13_col1\" class=\"data row13 col1\" >0.6741</td>\n",
       "      <td id=\"T_1917e_row13_col2\" class=\"data row13 col2\" >0.0000</td>\n",
       "      <td id=\"T_1917e_row13_col3\" class=\"data row13 col3\" >0.6299</td>\n",
       "      <td id=\"T_1917e_row13_col4\" class=\"data row13 col4\" >0.3868</td>\n",
       "      <td id=\"T_1917e_row13_col5\" class=\"data row13 col5\" >0.4792</td>\n",
       "      <td id=\"T_1917e_row13_col6\" class=\"data row13 col6\" >0.2614</td>\n",
       "      <td id=\"T_1917e_row13_col7\" class=\"data row13 col7\" >0.2779</td>\n",
       "      <td id=\"T_1917e_row13_col8\" class=\"data row13 col8\" >0.0180</td>\n",
       "    </tr>\n",
       "  </tbody>\n",
       "</table>\n"
      ],
      "text/plain": [
       "<pandas.io.formats.style.Styler at 0x7f59b5a23990>"
      ]
     },
     "metadata": {},
     "output_type": "display_data"
    },
    {
     "data": {
      "text/html": [],
      "text/plain": [
       "<IPython.core.display.HTML object>"
      ]
     },
     "metadata": {},
     "output_type": "display_data"
    }
   ],
   "source": [
    "best = compare_models(fold = 5,sort = 'AUC')"
   ]
  },
  {
   "cell_type": "markdown",
   "id": "d6af08bc",
   "metadata": {},
   "source": [
    "#### Criando o modelo."
   ]
  },
  {
   "cell_type": "code",
   "execution_count": 48,
   "id": "edcf1615",
   "metadata": {},
   "outputs": [
    {
     "data": {
      "text/html": [],
      "text/plain": [
       "<IPython.core.display.HTML object>"
      ]
     },
     "metadata": {},
     "output_type": "display_data"
    },
    {
     "data": {
      "text/html": [
       "<style type=\"text/css\">\n",
       "#T_50bf8_row5_col0, #T_50bf8_row5_col1, #T_50bf8_row5_col2, #T_50bf8_row5_col3, #T_50bf8_row5_col4, #T_50bf8_row5_col5, #T_50bf8_row5_col6 {\n",
       "  background: yellow;\n",
       "}\n",
       "</style>\n",
       "<table id=\"T_50bf8\">\n",
       "  <thead>\n",
       "    <tr>\n",
       "      <th class=\"blank level0\" >&nbsp;</th>\n",
       "      <th id=\"T_50bf8_level0_col0\" class=\"col_heading level0 col0\" >Accuracy</th>\n",
       "      <th id=\"T_50bf8_level0_col1\" class=\"col_heading level0 col1\" >AUC</th>\n",
       "      <th id=\"T_50bf8_level0_col2\" class=\"col_heading level0 col2\" >Recall</th>\n",
       "      <th id=\"T_50bf8_level0_col3\" class=\"col_heading level0 col3\" >Prec.</th>\n",
       "      <th id=\"T_50bf8_level0_col4\" class=\"col_heading level0 col4\" >F1</th>\n",
       "      <th id=\"T_50bf8_level0_col5\" class=\"col_heading level0 col5\" >Kappa</th>\n",
       "      <th id=\"T_50bf8_level0_col6\" class=\"col_heading level0 col6\" >MCC</th>\n",
       "    </tr>\n",
       "    <tr>\n",
       "      <th class=\"index_name level0\" >Fold</th>\n",
       "      <th class=\"blank col0\" >&nbsp;</th>\n",
       "      <th class=\"blank col1\" >&nbsp;</th>\n",
       "      <th class=\"blank col2\" >&nbsp;</th>\n",
       "      <th class=\"blank col3\" >&nbsp;</th>\n",
       "      <th class=\"blank col4\" >&nbsp;</th>\n",
       "      <th class=\"blank col5\" >&nbsp;</th>\n",
       "      <th class=\"blank col6\" >&nbsp;</th>\n",
       "    </tr>\n",
       "  </thead>\n",
       "  <tbody>\n",
       "    <tr>\n",
       "      <th id=\"T_50bf8_level0_row0\" class=\"row_heading level0 row0\" >0</th>\n",
       "      <td id=\"T_50bf8_row0_col0\" class=\"data row0 col0\" >0.8329</td>\n",
       "      <td id=\"T_50bf8_row0_col1\" class=\"data row0 col1\" >0.5000</td>\n",
       "      <td id=\"T_50bf8_row0_col2\" class=\"data row0 col2\" >0.6780</td>\n",
       "      <td id=\"T_50bf8_row0_col3\" class=\"data row0 col3\" >0.6408</td>\n",
       "      <td id=\"T_50bf8_row0_col4\" class=\"data row0 col4\" >0.6589</td>\n",
       "      <td id=\"T_50bf8_row0_col5\" class=\"data row0 col5\" >0.5483</td>\n",
       "      <td id=\"T_50bf8_row0_col6\" class=\"data row0 col6\" >0.5487</td>\n",
       "    </tr>\n",
       "    <tr>\n",
       "      <th id=\"T_50bf8_level0_row1\" class=\"row_heading level0 row1\" >1</th>\n",
       "      <td id=\"T_50bf8_row1_col0\" class=\"data row1 col0\" >0.8433</td>\n",
       "      <td id=\"T_50bf8_row1_col1\" class=\"data row1 col1\" >0.5000</td>\n",
       "      <td id=\"T_50bf8_row1_col2\" class=\"data row1 col2\" >0.7060</td>\n",
       "      <td id=\"T_50bf8_row1_col3\" class=\"data row1 col3\" >0.6598</td>\n",
       "      <td id=\"T_50bf8_row1_col4\" class=\"data row1 col4\" >0.6821</td>\n",
       "      <td id=\"T_50bf8_row1_col5\" class=\"data row1 col5\" >0.5783</td>\n",
       "      <td id=\"T_50bf8_row1_col6\" class=\"data row1 col6\" >0.5789</td>\n",
       "    </tr>\n",
       "    <tr>\n",
       "      <th id=\"T_50bf8_level0_row2\" class=\"row_heading level0 row2\" >2</th>\n",
       "      <td id=\"T_50bf8_row2_col0\" class=\"data row2 col0\" >0.8333</td>\n",
       "      <td id=\"T_50bf8_row2_col1\" class=\"data row2 col1\" >0.5000</td>\n",
       "      <td id=\"T_50bf8_row2_col2\" class=\"data row2 col2\" >0.6660</td>\n",
       "      <td id=\"T_50bf8_row2_col3\" class=\"data row2 col3\" >0.6453</td>\n",
       "      <td id=\"T_50bf8_row2_col4\" class=\"data row2 col4\" >0.6555</td>\n",
       "      <td id=\"T_50bf8_row2_col5\" class=\"data row2 col5\" >0.5456</td>\n",
       "      <td id=\"T_50bf8_row2_col6\" class=\"data row2 col6\" >0.5457</td>\n",
       "    </tr>\n",
       "    <tr>\n",
       "      <th id=\"T_50bf8_level0_row3\" class=\"row_heading level0 row3\" >3</th>\n",
       "      <td id=\"T_50bf8_row3_col0\" class=\"data row3 col0\" >0.8352</td>\n",
       "      <td id=\"T_50bf8_row3_col1\" class=\"data row3 col1\" >0.5000</td>\n",
       "      <td id=\"T_50bf8_row3_col2\" class=\"data row3 col2\" >0.6914</td>\n",
       "      <td id=\"T_50bf8_row3_col3\" class=\"data row3 col3\" >0.6425</td>\n",
       "      <td id=\"T_50bf8_row3_col4\" class=\"data row3 col4\" >0.6660</td>\n",
       "      <td id=\"T_50bf8_row3_col5\" class=\"data row3 col5\" >0.5568</td>\n",
       "      <td id=\"T_50bf8_row3_col6\" class=\"data row3 col6\" >0.5575</td>\n",
       "    </tr>\n",
       "    <tr>\n",
       "      <th id=\"T_50bf8_level0_row4\" class=\"row_heading level0 row4\" >4</th>\n",
       "      <td id=\"T_50bf8_row4_col0\" class=\"data row4 col0\" >0.8237</td>\n",
       "      <td id=\"T_50bf8_row4_col1\" class=\"data row4 col1\" >0.5000</td>\n",
       "      <td id=\"T_50bf8_row4_col2\" class=\"data row4 col2\" >0.6920</td>\n",
       "      <td id=\"T_50bf8_row4_col3\" class=\"data row4 col3\" >0.6157</td>\n",
       "      <td id=\"T_50bf8_row4_col4\" class=\"data row4 col4\" >0.6516</td>\n",
       "      <td id=\"T_50bf8_row4_col5\" class=\"data row4 col5\" >0.5342</td>\n",
       "      <td id=\"T_50bf8_row4_col6\" class=\"data row4 col6\" >0.5358</td>\n",
       "    </tr>\n",
       "    <tr>\n",
       "      <th id=\"T_50bf8_level0_row5\" class=\"row_heading level0 row5\" >Mean</th>\n",
       "      <td id=\"T_50bf8_row5_col0\" class=\"data row5 col0\" >0.8337</td>\n",
       "      <td id=\"T_50bf8_row5_col1\" class=\"data row5 col1\" >0.5000</td>\n",
       "      <td id=\"T_50bf8_row5_col2\" class=\"data row5 col2\" >0.6867</td>\n",
       "      <td id=\"T_50bf8_row5_col3\" class=\"data row5 col3\" >0.6408</td>\n",
       "      <td id=\"T_50bf8_row5_col4\" class=\"data row5 col4\" >0.6628</td>\n",
       "      <td id=\"T_50bf8_row5_col5\" class=\"data row5 col5\" >0.5526</td>\n",
       "      <td id=\"T_50bf8_row5_col6\" class=\"data row5 col6\" >0.5533</td>\n",
       "    </tr>\n",
       "    <tr>\n",
       "      <th id=\"T_50bf8_level0_row6\" class=\"row_heading level0 row6\" >Std</th>\n",
       "      <td id=\"T_50bf8_row6_col0\" class=\"data row6 col0\" >0.0062</td>\n",
       "      <td id=\"T_50bf8_row6_col1\" class=\"data row6 col1\" >0.0000</td>\n",
       "      <td id=\"T_50bf8_row6_col2\" class=\"data row6 col2\" >0.0136</td>\n",
       "      <td id=\"T_50bf8_row6_col3\" class=\"data row6 col3\" >0.0143</td>\n",
       "      <td id=\"T_50bf8_row6_col4\" class=\"data row6 col4\" >0.0107</td>\n",
       "      <td id=\"T_50bf8_row6_col5\" class=\"data row6 col5\" >0.0147</td>\n",
       "      <td id=\"T_50bf8_row6_col6\" class=\"data row6 col6\" >0.0145</td>\n",
       "    </tr>\n",
       "  </tbody>\n",
       "</table>\n"
      ],
      "text/plain": [
       "<pandas.io.formats.style.Styler at 0x7f59b452ccd0>"
      ]
     },
     "metadata": {},
     "output_type": "display_data"
    },
    {
     "data": {
      "text/html": [],
      "text/plain": [
       "<IPython.core.display.HTML object>"
      ]
     },
     "metadata": {},
     "output_type": "display_data"
    }
   ],
   "source": [
    "gbc = create_model('gbc', fold = 5)"
   ]
  },
  {
   "cell_type": "markdown",
   "id": "22ab7ba2",
   "metadata": {},
   "source": [
    "#### Realizando o tunning do modelo."
   ]
  },
  {
   "cell_type": "code",
   "execution_count": 49,
   "id": "3f02f806",
   "metadata": {
    "tags": []
   },
   "outputs": [
    {
     "data": {
      "text/html": [],
      "text/plain": [
       "<IPython.core.display.HTML object>"
      ]
     },
     "metadata": {},
     "output_type": "display_data"
    },
    {
     "data": {
      "text/html": [
       "<style type=\"text/css\">\n",
       "#T_fa930_row5_col0, #T_fa930_row5_col1, #T_fa930_row5_col2, #T_fa930_row5_col3, #T_fa930_row5_col4, #T_fa930_row5_col5, #T_fa930_row5_col6 {\n",
       "  background: yellow;\n",
       "}\n",
       "</style>\n",
       "<table id=\"T_fa930\">\n",
       "  <thead>\n",
       "    <tr>\n",
       "      <th class=\"blank level0\" >&nbsp;</th>\n",
       "      <th id=\"T_fa930_level0_col0\" class=\"col_heading level0 col0\" >Accuracy</th>\n",
       "      <th id=\"T_fa930_level0_col1\" class=\"col_heading level0 col1\" >AUC</th>\n",
       "      <th id=\"T_fa930_level0_col2\" class=\"col_heading level0 col2\" >Recall</th>\n",
       "      <th id=\"T_fa930_level0_col3\" class=\"col_heading level0 col3\" >Prec.</th>\n",
       "      <th id=\"T_fa930_level0_col4\" class=\"col_heading level0 col4\" >F1</th>\n",
       "      <th id=\"T_fa930_level0_col5\" class=\"col_heading level0 col5\" >Kappa</th>\n",
       "      <th id=\"T_fa930_level0_col6\" class=\"col_heading level0 col6\" >MCC</th>\n",
       "    </tr>\n",
       "    <tr>\n",
       "      <th class=\"index_name level0\" >Fold</th>\n",
       "      <th class=\"blank col0\" >&nbsp;</th>\n",
       "      <th class=\"blank col1\" >&nbsp;</th>\n",
       "      <th class=\"blank col2\" >&nbsp;</th>\n",
       "      <th class=\"blank col3\" >&nbsp;</th>\n",
       "      <th class=\"blank col4\" >&nbsp;</th>\n",
       "      <th class=\"blank col5\" >&nbsp;</th>\n",
       "      <th class=\"blank col6\" >&nbsp;</th>\n",
       "    </tr>\n",
       "  </thead>\n",
       "  <tbody>\n",
       "    <tr>\n",
       "      <th id=\"T_fa930_level0_row0\" class=\"row_heading level0 row0\" >0</th>\n",
       "      <td id=\"T_fa930_row0_col0\" class=\"data row0 col0\" >0.8162</td>\n",
       "      <td id=\"T_fa930_row0_col1\" class=\"data row0 col1\" >0.5000</td>\n",
       "      <td id=\"T_fa930_row0_col2\" class=\"data row0 col2\" >0.6660</td>\n",
       "      <td id=\"T_fa930_row0_col3\" class=\"data row0 col3\" >0.6033</td>\n",
       "      <td id=\"T_fa930_row0_col4\" class=\"data row0 col4\" >0.6331</td>\n",
       "      <td id=\"T_fa930_row0_col5\" class=\"data row0 col5\" >0.5109</td>\n",
       "      <td id=\"T_fa930_row0_col6\" class=\"data row0 col6\" >0.5120</td>\n",
       "    </tr>\n",
       "    <tr>\n",
       "      <th id=\"T_fa930_level0_row1\" class=\"row_heading level0 row1\" >1</th>\n",
       "      <td id=\"T_fa930_row1_col0\" class=\"data row1 col0\" >0.8305</td>\n",
       "      <td id=\"T_fa930_row1_col1\" class=\"data row1 col1\" >0.5000</td>\n",
       "      <td id=\"T_fa930_row1_col2\" class=\"data row1 col2\" >0.6900</td>\n",
       "      <td id=\"T_fa930_row1_col3\" class=\"data row1 col3\" >0.6319</td>\n",
       "      <td id=\"T_fa930_row1_col4\" class=\"data row1 col4\" >0.6597</td>\n",
       "      <td id=\"T_fa930_row1_col5\" class=\"data row1 col5\" >0.5471</td>\n",
       "      <td id=\"T_fa930_row1_col6\" class=\"data row1 col6\" >0.5480</td>\n",
       "    </tr>\n",
       "    <tr>\n",
       "      <th id=\"T_fa930_level0_row2\" class=\"row_heading level0 row2\" >2</th>\n",
       "      <td id=\"T_fa930_row2_col0\" class=\"data row2 col0\" >0.8167</td>\n",
       "      <td id=\"T_fa930_row2_col1\" class=\"data row2 col1\" >0.5000</td>\n",
       "      <td id=\"T_fa930_row2_col2\" class=\"data row2 col2\" >0.6540</td>\n",
       "      <td id=\"T_fa930_row2_col3\" class=\"data row2 col3\" >0.6067</td>\n",
       "      <td id=\"T_fa930_row2_col4\" class=\"data row2 col4\" >0.6295</td>\n",
       "      <td id=\"T_fa930_row2_col5\" class=\"data row2 col5\" >0.5079</td>\n",
       "      <td id=\"T_fa930_row2_col6\" class=\"data row2 col6\" >0.5085</td>\n",
       "    </tr>\n",
       "    <tr>\n",
       "      <th id=\"T_fa930_level0_row3\" class=\"row_heading level0 row3\" >3</th>\n",
       "      <td id=\"T_fa930_row3_col0\" class=\"data row3 col0\" >0.8142</td>\n",
       "      <td id=\"T_fa930_row3_col1\" class=\"data row3 col1\" >0.5000</td>\n",
       "      <td id=\"T_fa930_row3_col2\" class=\"data row3 col2\" >0.6794</td>\n",
       "      <td id=\"T_fa930_row3_col3\" class=\"data row3 col3\" >0.5958</td>\n",
       "      <td id=\"T_fa930_row3_col4\" class=\"data row3 col4\" >0.6348</td>\n",
       "      <td id=\"T_fa930_row3_col5\" class=\"data row3 col5\" >0.5109</td>\n",
       "      <td id=\"T_fa930_row3_col6\" class=\"data row3 col6\" >0.5129</td>\n",
       "    </tr>\n",
       "    <tr>\n",
       "      <th id=\"T_fa930_level0_row4\" class=\"row_heading level0 row4\" >4</th>\n",
       "      <td id=\"T_fa930_row4_col0\" class=\"data row4 col0\" >0.8166</td>\n",
       "      <td id=\"T_fa930_row4_col1\" class=\"data row4 col1\" >0.5000</td>\n",
       "      <td id=\"T_fa930_row4_col2\" class=\"data row4 col2\" >0.6760</td>\n",
       "      <td id=\"T_fa930_row4_col3\" class=\"data row4 col3\" >0.6025</td>\n",
       "      <td id=\"T_fa930_row4_col4\" class=\"data row4 col4\" >0.6371</td>\n",
       "      <td id=\"T_fa930_row4_col5\" class=\"data row4 col5\" >0.5149</td>\n",
       "      <td id=\"T_fa930_row4_col6\" class=\"data row4 col6\" >0.5165</td>\n",
       "    </tr>\n",
       "    <tr>\n",
       "      <th id=\"T_fa930_level0_row5\" class=\"row_heading level0 row5\" >Mean</th>\n",
       "      <td id=\"T_fa930_row5_col0\" class=\"data row5 col0\" >0.8188</td>\n",
       "      <td id=\"T_fa930_row5_col1\" class=\"data row5 col1\" >0.5000</td>\n",
       "      <td id=\"T_fa930_row5_col2\" class=\"data row5 col2\" >0.6731</td>\n",
       "      <td id=\"T_fa930_row5_col3\" class=\"data row5 col3\" >0.6080</td>\n",
       "      <td id=\"T_fa930_row5_col4\" class=\"data row5 col4\" >0.6388</td>\n",
       "      <td id=\"T_fa930_row5_col5\" class=\"data row5 col5\" >0.5183</td>\n",
       "      <td id=\"T_fa930_row5_col6\" class=\"data row5 col6\" >0.5196</td>\n",
       "    </tr>\n",
       "    <tr>\n",
       "      <th id=\"T_fa930_level0_row6\" class=\"row_heading level0 row6\" >Std</th>\n",
       "      <td id=\"T_fa930_row6_col0\" class=\"data row6 col0\" >0.0059</td>\n",
       "      <td id=\"T_fa930_row6_col1\" class=\"data row6 col1\" >0.0000</td>\n",
       "      <td id=\"T_fa930_row6_col2\" class=\"data row6 col2\" >0.0122</td>\n",
       "      <td id=\"T_fa930_row6_col3\" class=\"data row6 col3\" >0.0124</td>\n",
       "      <td id=\"T_fa930_row6_col4\" class=\"data row6 col4\" >0.0107</td>\n",
       "      <td id=\"T_fa930_row6_col5\" class=\"data row6 col5\" >0.0145</td>\n",
       "      <td id=\"T_fa930_row6_col6\" class=\"data row6 col6\" >0.0144</td>\n",
       "    </tr>\n",
       "  </tbody>\n",
       "</table>\n"
      ],
      "text/plain": [
       "<pandas.io.formats.style.Styler at 0x7f59b658d7d0>"
      ]
     },
     "metadata": {},
     "output_type": "display_data"
    },
    {
     "data": {
      "text/html": [],
      "text/plain": [
       "<IPython.core.display.HTML object>"
      ]
     },
     "metadata": {},
     "output_type": "display_data"
    },
    {
     "name": "stdout",
     "output_type": "stream",
     "text": [
      "Fitting 5 folds for each of 10 candidates, totalling 50 fits\n",
      "Original model was better than the tuned model, hence it will be returned. NOTE: The display metrics are for the tuned model (not the original one).\n"
     ]
    }
   ],
   "source": [
    "tuned_gbc = tune_model(gbc\n",
    "                      ,fold = 5\n",
    "                      ,custom_grid = {\n",
    "                                      \"learning_rate\":[0.1,0.2,0.5]\n",
    "                                     ,\"n_estimators\":[100,500,1000]\n",
    "                                     ,\"min_samples_split\":[1,2,5,10]\n",
    "                                     ,\"max_depth\":[1,3,9]\n",
    "                                     }\n",
    "                      ,optimize = 'AUC')"
   ]
  },
  {
   "cell_type": "markdown",
   "id": "b498f3ab",
   "metadata": {},
   "source": [
    "#### Finalizando o modelo."
   ]
  },
  {
   "cell_type": "code",
   "execution_count": 50,
   "id": "3b110ac6",
   "metadata": {},
   "outputs": [],
   "source": [
    "final_model = finalize_model(gbc)"
   ]
  },
  {
   "cell_type": "code",
   "execution_count": 51,
   "id": "d0a246f8",
   "metadata": {},
   "outputs": [
    {
     "name": "stdout",
     "output_type": "stream",
     "text": [
      "Transformation Pipeline and Model Successfully Saved\n"
     ]
    },
    {
     "data": {
      "text/plain": [
       "(Pipeline(memory=Memory(location=None),\n",
       "          steps=[('numerical_imputer',\n",
       "                  TransformerWrapper(exclude=None, include=['yearsAtCompany'],\n",
       "                                     transformer=SimpleImputer(add_indicator=False,\n",
       "                                                               copy=True,\n",
       "                                                               fill_value=None,\n",
       "                                                               keep_empty_features=False,\n",
       "                                                               missing_values=nan,\n",
       "                                                               strategy='mean'))),\n",
       "                 ('categorical_imputer',\n",
       "                  TransformerWrapper(exclude=None, include=[],\n",
       "                                     transformer=SimpleImput...\n",
       "                                             criterion='friedman_mse', init=None,\n",
       "                                             learning_rate=0.1, loss='log_loss',\n",
       "                                             max_depth=3, max_features=None,\n",
       "                                             max_leaf_nodes=None,\n",
       "                                             min_impurity_decrease=0.0,\n",
       "                                             min_samples_leaf=1,\n",
       "                                             min_samples_split=2,\n",
       "                                             min_weight_fraction_leaf=0.0,\n",
       "                                             n_estimators=100,\n",
       "                                             n_iter_no_change=None,\n",
       "                                             random_state=3105, subsample=1.0,\n",
       "                                             tol=0.0001, validation_fraction=0.1,\n",
       "                                             verbose=0, warm_start=False))],\n",
       "          verbose=False),\n",
       " 'model.pkl')"
      ]
     },
     "execution_count": 51,
     "metadata": {},
     "output_type": "execute_result"
    }
   ],
   "source": [
    "save_model(final_model,'model')"
   ]
  },
  {
   "cell_type": "markdown",
   "id": "a87ed577",
   "metadata": {},
   "source": [
    "#### Transferindo os arquivos para o Data Lake."
   ]
  },
  {
   "cell_type": "markdown",
   "id": "3e254c1c",
   "metadata": {},
   "source": [
    "#### Modelo de Classificação."
   ]
  },
  {
   "cell_type": "code",
   "execution_count": 52,
   "id": "b438b749",
   "metadata": {},
   "outputs": [
    {
     "data": {
      "text/plain": [
       "<minio.helpers.ObjectWriteResult at 0x7f5986992dd0>"
      ]
     },
     "execution_count": 52,
     "metadata": {},
     "output_type": "execute_result"
    }
   ],
   "source": [
    "client.fput_object(\n",
    "    \"curated\",\n",
    "    \"model.pkl\",\n",
    "    \"model.pkl\"\n",
    ")"
   ]
  },
  {
   "cell_type": "markdown",
   "id": "c8fa009d",
   "metadata": {},
   "source": [
    "#### Exportando o conjunto de dados para o disco."
   ]
  },
  {
   "cell_type": "code",
   "execution_count": 53,
   "id": "a65fc51b",
   "metadata": {
    "scrolled": true
   },
   "outputs": [],
   "source": [
    "df.to_csv(\"dataset.csv\",index=False)"
   ]
  },
  {
   "cell_type": "code",
   "execution_count": 54,
   "id": "bc43bf6c",
   "metadata": {},
   "outputs": [
    {
     "data": {
      "text/plain": [
       "<minio.helpers.ObjectWriteResult at 0x7f59b658e450>"
      ]
     },
     "execution_count": 54,
     "metadata": {},
     "output_type": "execute_result"
    }
   ],
   "source": [
    "client.fput_object(\n",
    "    \"curated\",\n",
    "    \"dataset.csv\",\n",
    "    \"dataset.csv\"\n",
    ")"
   ]
  },
  {
   "cell_type": "code",
   "execution_count": null,
   "id": "3f6136bf-df17-47e1-8bc7-928b89b29b76",
   "metadata": {},
   "outputs": [],
   "source": []
  }
 ],
 "metadata": {
  "kernelspec": {
   "display_name": "Python 3 (ipykernel)",
   "language": "python",
   "name": "python3"
  },
  "language_info": {
   "codemirror_mode": {
    "name": "ipython",
    "version": 3
   },
   "file_extension": ".py",
   "mimetype": "text/x-python",
   "name": "python",
   "nbconvert_exporter": "python",
   "pygments_lexer": "ipython3",
   "version": "3.11.5"
  }
 },
 "nbformat": 4,
 "nbformat_minor": 5
}
